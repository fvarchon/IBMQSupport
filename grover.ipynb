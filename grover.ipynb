{
 "cells": [
  {
   "cell_type": "markdown",
   "metadata": {
    "collapsed": true
   },
   "source": [
    "# _*Experiment Grover's Algorithm to Perform Quantum Search from Aqua*_\n",
    "<div class=\"alert alert-block alert-info\">\n",
    "<b>Note:</b>\n",
    "\n",
    "This notebook demonstrates how to use the `Qiskit Aqua` library `Grover` search algorithm and process the result."
   ]
  },
  {
   "cell_type": "code",
   "execution_count": 1,
   "metadata": {
    "slideshow": {
     "slide_type": "subslide"
    }
   },
   "outputs": [],
   "source": [
    "import pylab\n",
    "import numpy as np\n",
    "from qiskit import Aer\n",
    "from qiskit.tools.visualization import plot_histogram\n",
    "from qiskit.aqua import QuantumInstance\n",
    "from qiskit.aqua import run_algorithm\n",
    "from qiskit.aqua.algorithms import Grover\n",
    "from qiskit.aqua.components.oracles import LogicalExpressionOracle, TruthTableOracle"
   ]
  },
  {
   "cell_type": "markdown",
   "metadata": {},
   "source": [
    "## Use Quantum Search to Find Solutions to 3-SAT Problems\n",
    "<div class=\"alert alert-block alert-info\">\n",
    "<b>Note:</b>\n",
    "\n",
    "Let's look at an example 3-Satisfiability (3-SAT) problem and walkthrough how we can use Quantum Search to find its satisfying solutions. 3-SAT problems are usually expressed in [Conjunctive Normal Forms (CNF)](https://en.wikipedia.org/wiki/Conjunctive_normal_form) and written in the [DIMACS-CNF](https://www.satcompetition.org/2009/format-benchmarks2009.html) format. For example:"
   ]
  },
  {
   "cell_type": "code",
   "execution_count": null,
   "metadata": {
    "slideshow": {
     "slide_type": "subslide"
    }
   },
   "outputs": [],
   "source": [
    "input_3sat_instance_example = '''\n",
    "c example DIMACS-CNF 3-SAT\n",
    "p cnf 3 5\n",
    "-1 -2 -3 0\n",
    "1 -2 3 0\n",
    "1 2 -3 0\n",
    "1 -2 -3 0\n",
    "-1 2 3 0\n",
    "'''"
   ]
  },
  {
   "cell_type": "markdown",
   "metadata": {
    "slideshow": {
     "slide_type": "subslide"
    }
   },
   "source": [
    "<div class=\"alert alert-block alert-info\">\n",
    "<b>Note: CNF Format </b>\n",
    "    \n",
    "The CNF of this 3-SAT instance contains 3 variables and 5 clauses:\n",
    "\n",
    "$(\\neg v_1 \\vee \\neg v_2 \\vee \\neg v_3) \\wedge (v_1 \\vee \\neg v_2 \\vee v_3) \\wedge (v_1 \\vee v_2 \\vee \\neg v_3) \\wedge (v_1 \\vee \\neg v_2 \\vee \\neg v_3) \\wedge (\\neg v_1 \\vee v_2 \\vee v_3)$\n",
    "\n",
    "It can be verified that this 3-SAT problem instance has three satisfying solutions:\n",
    "\n",
    "$(v_1, v_2, v_3) = (T, F, T)$ or $(F, F, F)$ or $(T, T, F)$\n",
    "\n",
    "Or, expressed using the DIMACS notation:\n",
    "\n",
    "`1 -2 3`, or `-1 -2 -3`, or `1 2 -3`.\n",
    "\n"
   ]
  },
  {
   "cell_type": "markdown",
   "metadata": {},
   "source": [
    "## First Challenge\n",
    "<div class=\"alert alert-block alert-info\">\n",
    "<b>Note: Your first Challenge</b>\n",
    "\n",
    "You will use $Qiskit$ $Aqua$ to implement Grover search algorithm. You'll have to perform the following\n",
    "\n",
    "    \n",
    "- Express the logical expression below in [DIMACS-CNF] format -->   (https://www.satcompetition.org/2009/format-benchmarks2009.html) : $(v_1 \\vee \\neg v_2 \\vee  v_3) \\wedge (v_1 \\vee v_2 \\vee \\neg v_3) \\wedge (\\neg v_1 \\vee v_2 \\vee \\neg v_3) \\wedge (v_1 \\vee \\neg v_2 \\vee \\neg v_3) \\wedge (\\neg v_1 \\vee \\neg v_2 \\vee \\neg v_3) \\wedge ( v_1 \\vee  v_2 \\vee  v_3) \\wedge (\\neg v_1 \\vee \\neg v_2 \\vee  v_3)$\n",
    "- Construct the Oracle circuit using the DIMACS-CNF file and Aqua \"LogicalExpressionOracle\" function\n",
    "- Create a Grover instance \n",
    "- Run the grover circuit to the $Aer$ $qasm$_$simulator$"
   ]
  },
  {
   "cell_type": "code",
   "execution_count": null,
   "metadata": {},
   "outputs": [],
   "source": [
    "# Create the expression in DIMACS-CNF format\n",
    "input_3sat='''\n",
    "\n",
    "'''"
   ]
  },
  {
   "cell_type": "markdown",
   "metadata": {},
   "source": [
    "<div class=\"alert alert-block alert-info\">\n",
    "<b>Note: </b>\n",
    "Then create the $oracle$ for your $Grover$ search algorithm. In particular, you'll use the `LogicalExpressionOracle` component provided by Aqua, which supports parsing DIMACS-CNF format strings and constructing the corresponding oracle circuit."
   ]
  },
  {
   "cell_type": "code",
   "execution_count": null,
   "metadata": {
    "slideshow": {
     "slide_type": "slide"
    }
   },
   "outputs": [],
   "source": [
    "# Construct the Oracle Circuit using the \"LogicalExpressionOracle\" function. Set the optimisation parameter to \"True\"\n",
    "oracle = ....\n",
    "\n",
    "# Draw the circuit of the oracle with the method .circuit.draw()\n",
    "\n"
   ]
  },
  {
   "cell_type": "code",
   "execution_count": null,
   "metadata": {
    "slideshow": {
     "slide_type": "slide"
    }
   },
   "outputs": [],
   "source": [
    "# create a grover instance with the function Grover\n",
    "grover = Grover(.....) \n"
   ]
  },
  {
   "cell_type": "code",
   "execution_count": null,
   "metadata": {
    "slideshow": {
     "slide_type": "subslide"
    }
   },
   "outputs": [],
   "source": [
    "# Load the qasm_simulator backend from Aer module\n",
    "backend = ....\n",
    "\n",
    "# Execute the grover instance using the qasm_simulator from Aer. Run 1024 shots and put the results into a result variable.  \n",
    "result = grover.......\n",
    "\n",
    "# print the results of the experiment result['result'] or result['measurement']\n",
    "print('The corresponding result is: ',result['result'], 'or',  result['measurement'])"
   ]
  },
  {
   "cell_type": "code",
   "execution_count": null,
   "metadata": {
    "slideshow": {
     "slide_type": "subslide"
    }
   },
   "outputs": [],
   "source": [
    "# plot the histogram using the plot_histogram function on result['measurement']\n",
    "plot_histogram......"
   ]
  },
  {
   "cell_type": "markdown",
   "metadata": {},
   "source": [
    "<div class=\"alert alert-block alert-info\">\n",
    "<b>Note: number of Grover Iterations</b>\n",
    "\n",
    "The Grover search result that you obtained was executed with $1$ iteration of the algorithm. Try using num_iterations to 2 and 3 in the grover algorithm \n",
    "- grover = Grover(...., num_iterations=2) \n",
    "\n",
    "What do you notice when changing the number of Iterations ? \n",
    "\n",
    "What is the optimum iteration value in that case ? \n",
    "\n"
   ]
  },
  {
   "cell_type": "markdown",
   "metadata": {
    "slideshow": {
     "slide_type": "slide"
    }
   },
   "source": [
    "<div class=\"alert alert-block alert-info\">\n",
    "<b>Note: Using declarative approach</b>\n",
    "\n",
    "Grover algorithm can also been invoked using a $declarative$ $approach$ rather than the $programmatic$ $approach$. \n",
    "The declarative approach uses a json configuration dictionary containning the different parameters some dependent objects :   \n",
    "\n",
    "<div class=\"alert alert-block alert-info\">\n",
    "<b>Note: Here below we provide a json example. You'll have to run the Grover algorithm using the json declarative approach  </b>\n"
   ]
  },
  {
   "cell_type": "code",
   "execution_count": null,
   "metadata": {
    "scrolled": true,
    "slideshow": {
     "slide_type": "subslide"
    }
   },
   "outputs": [],
   "source": [
    "# In this example, the json specifies the algorithm, the method to construct the oracle, the DIMACS-CNF file encoding the logical expression and the backend. \n",
    "params = {\n",
    "    'problem': {\n",
    "        'name': 'search',\n",
    "    },\n",
    "    'algorithm': {\n",
    "        'name': 'Grover'\n",
    "        'num_iterations': 1\n",
    "    },\n",
    "    'oracle': {\n",
    "        'name': 'LogicalExpressionOracle',\n",
    "        'expression': input_3sat\n",
    "    },\n",
    "    'backend': {\n",
    "        'shots': 1000,\n",
    "    },\n",
    "}"
   ]
  },
  {
   "cell_type": "code",
   "execution_count": null,
   "metadata": {},
   "outputs": [],
   "source": [
    "# Use \"run_algorithm\" function using the json previously defined. Run the algorithm using the Aer backend \"qasm_simulator\" \n",
    "# The input params being the declarative form of the dictionary/json.\n",
    "\n",
    "run_algorithm(...........\n",
    "\n"
   ]
  },
  {
   "cell_type": "code",
   "execution_count": null,
   "metadata": {},
   "outputs": [],
   "source": [
    "# Plot the results using the plot_histogram function on result_dict['measurement']\n",
    "\n",
    "plot_histogram....."
   ]
  },
  {
   "cell_type": "markdown",
   "metadata": {
    "slideshow": {
     "slide_type": "slide"
    }
   },
   "source": [
    "## Second Challenge - Quantum Search with Oracles from TruthTable\n",
    "<div class=\"alert alert-block alert-info\">\n",
    "<b>Note: Your second Challenge</b>\n",
    "    \n",
    "With Aqua, `Oracles` can also be constructed from $truth$ $tables$, meaning we can also perform Quantum Search on $truth$ $tables$. Even though this might seem like a moot point as we would be essentially searching for entries of a truth table with the $1$ value, it'd a good example for demonstrative purpose.\n",
    "    \n",
    "You will use $Qiskit$ $Aqua$ to implement Grover search algorithm. You'll have to perform the following: Using Grover, your chalenge is to find the solutions $0000$ and $1111$\n",
    "\n",
    "- Create the truthtable that is specified as a bitstring containing values of all entries in the table. It has length 16, $x\\in [0,2^n -1 ]$, so the corresponding truth table is of 4 input bits. The corresponding truth table values must target $1$ for entries $0000$ and $1111$\n",
    "- Construct the Oracle circuit using the $truth$ $table$ you defined \n",
    "- Create a Grover instance using your oracle\n",
    "- Run the grover circuit to the $Aer$ $qasm$_$simulator$\n",
    "- Run the Grover circuit using a $real$ $backend$\n"
   ]
  },
  {
   "cell_type": "code",
   "execution_count": null,
   "metadata": {
    "slideshow": {
     "slide_type": "subslide"
    }
   },
   "outputs": [],
   "source": [
    "truthtable = ''    #  your bitstring "
   ]
  },
  {
   "cell_type": "markdown",
   "metadata": {
    "slideshow": {
     "slide_type": "subslide"
    }
   },
   "source": [
    "<div class=\"alert alert-block alert-info\">\n",
    "<b>Note:</b>\n",
    "Next, we can setup the `Oracle` and `Grover` objects to perform Quantum Search as usual."
   ]
  },
  {
   "cell_type": "code",
   "execution_count": null,
   "metadata": {
    "slideshow": {
     "slide_type": "subslide"
    }
   },
   "outputs": [],
   "source": [
    "# Create the oracle using the \"TruthTableOracle\" function. use the truthtable as argument. \n",
    "\n",
    "oracle = ........\n"
   ]
  },
  {
   "cell_type": "code",
   "execution_count": null,
   "metadata": {},
   "outputs": [],
   "source": [
    "# Create a Grover instance using the \"Grover\" function. Use the oracle as argument\n",
    "\n",
    "grover = ...... \n"
   ]
  },
  {
   "cell_type": "code",
   "execution_count": null,
   "metadata": {},
   "outputs": [],
   "source": [
    "# Run the Grover algorithm using the \"qasm_simulator\" backend. execute 1024 shots\n",
    "\n",
    "result = grover.run(.......\n",
    "                    "
   ]
  },
  {
   "cell_type": "code",
   "execution_count": null,
   "metadata": {},
   "outputs": [],
   "source": [
    "# Plot the results using the plot_histogram function on result['measurement']\n",
    "\n",
    "plot_histogram(....."
   ]
  },
  {
   "cell_type": "code",
   "execution_count": null,
   "metadata": {},
   "outputs": [],
   "source": [
    "# Now execute the circuit using a real backend. You'll use the least busy real backend\n",
    "\n",
    "# import IBMQ from qiskit\n",
    "from qiskit import IBMQ\n",
    "\n",
    "# Configure your IBMQ credentials. \n",
    "# Run the following command to store your API token locally for later use. This saves your account to disk.\n",
    "IBMQ.save_account('YOUR_API_TOKEN')\n",
    "\n",
    "# Accessing your IBMQ backends. Load your account to access your \"backend\" devices\n",
    "provider = IBMQ.load_account()\n",
    "\n",
    "# A provider gives access to specific devices, depending on the group, the project or the hub your have access to:\n",
    "# list your provider\n",
    "print(provider)\n"
   ]
  },
  {
   "cell_type": "code",
   "execution_count": null,
   "metadata": {},
   "outputs": [],
   "source": [
    "# list the least busy \"backend\" among the available ones. \n",
    "from qiskit.providers.ibmq import least_busy\n",
    "\n",
    "lb_backend = least_busy(available_backends)\n",
    "\n",
    "print('The least busy backend is: ', lb_backend.name())"
   ]
  },
  {
   "cell_type": "code",
   "execution_count": null,
   "metadata": {},
   "outputs": [],
   "source": [
    "# Execute the circuit on the real backend, running it 1000 times.\n",
    "job_real = execute(......\n",
    "\n",
    "# Grab the results from the job.\n",
    "result_real = ........\n",
    "\n",
    "# Print the counts, which are contained in a Python dictionary\n",
    "counts_real = ........"
   ]
  },
  {
   "cell_type": "code",
   "execution_count": null,
   "metadata": {},
   "outputs": [],
   "source": [
    "# plot the histogram and compare it with the previous run on the simulator\n",
    "# Firt we set the legend \n",
    "legend=['simulator', 'real device']\n",
    "\n",
    "plot_histogram([................"
   ]
  },
  {
   "cell_type": "markdown",
   "metadata": {},
   "source": [
    "# Solutions"
   ]
  },
  {
   "cell_type": "markdown",
   "metadata": {},
   "source": [
    "### First Challenge solution\n",
    "<div class=\"alert alert-success\">\n",
    "  <strong>Here below you'll find the Solution for the \"first Challenge\"</strong> \n",
    "</div> \n"
   ]
  },
  {
   "cell_type": "code",
   "execution_count": 2,
   "metadata": {},
   "outputs": [],
   "source": [
    "# Create the expression above in DIMACS-CNF format \n",
    "# Logical expression :(𝑣1∨¬𝑣2∨𝑣3)∧(𝑣1∨𝑣2∨¬𝑣3)∧(¬𝑣1∨𝑣2∨¬𝑣3)∧(𝑣1∨¬𝑣2∨¬𝑣3)∧(¬𝑣1∨¬𝑣2∨¬𝑣3)\n",
    "input_3sat='''\n",
    "c example DIMACS-CNF 3-SAT\n",
    "p cnf 3 7\n",
    "1 -2 3 0\n",
    "1 2 -3 0\n",
    "-1 2 -3 0\n",
    "1 -2 -3 0\n",
    "-1 -2 -3 0\n",
    "1 2 3 0\n",
    "-1 -2 3 0\n",
    "'''"
   ]
  },
  {
   "cell_type": "code",
   "execution_count": 59,
   "metadata": {},
   "outputs": [
    {
     "data": {
      "image/png": "[encoded data removed]",
      "text/plain": [
       "<Figure size 1372.56x278.64 with 1 Axes>"
      ]
     },
     "execution_count": 59,
     "metadata": {},
     "output_type": "execute_result"
    }
   ],
   "source": [
    "# Construct the Oracle Circuit with the LogicalExpressionOracle and set the optimisation parameter to True\n",
    "oracle = LogicalExpressionOracle(input_3sat, optimization=True)\n",
    "\n",
    "# Draw the circuit of oracle with the method .circuit.draw()\n",
    "oracle.circuit.draw(output='mpl', scale=0.6)"
   ]
  },
  {
   "cell_type": "code",
   "execution_count": 69,
   "metadata": {},
   "outputs": [],
   "source": [
    "# Create a grover instance with the Grover function \n",
    "# use the num_iterations by default = 1\n",
    "grover = Grover(oracle, num_iterations=1)"
   ]
  },
  {
   "cell_type": "markdown",
   "metadata": {},
   "source": [
    "<div class=\"alert alert-success\">\n",
    "  <strong>We can then configure the backend and run the Grover instance to get the result:</strong> \n",
    "</div> \n"
   ]
  },
  {
   "cell_type": "code",
   "execution_count": 70,
   "metadata": {},
   "outputs": [
    {
     "name": "stdout",
     "output_type": "stream",
     "text": [
      "The corresponding result is:  [1, -2, -3] or {'011': 36, '010': 46, '000': 31, '101': 34, '100': 34, '001': 778, '111': 27, '110': 38}\n"
     ]
    }
   ],
   "source": [
    "# Load the qasm_simulator backend from Aer module\n",
    "backend = Aer.get_backend('qasm_simulator')\n",
    "\n",
    "# Create a quantum_instance with QuantumInstance\n",
    "quantum_instance = QuantumInstance(backend, shots=1024)\n",
    "\n",
    "# run the Grover algorithm on the quantum_instance\n",
    "result = grover.run(quantum_instance)\n",
    "\n",
    "# print the results of the experiment result['result'] or result['measurement']\n",
    "print('The corresponding result is: ',result['result'], 'or',  result['measurement'])"
   ]
  },
  {
   "cell_type": "markdown",
   "metadata": {},
   "source": [
    "<div class=\"alert alert-success\">\n",
    "  <strong>Note:</strong> \n",
    "\n",
    "As seen above, a satisfying solution to the specified 3-SAT problem is obtained. And it is indeed one of the three satisfying solutions.\n",
    "\n",
    "Since we used the `'qasm_simulator'`, the complete measurement result is also returned, as shown in the plot below, where it can be seen that the binary strings `001` (note the bit order in the string), corresponding to the  satisfying solution that has high probabilities associated with it.\n",
    "</div>"
   ]
  },
  {
   "cell_type": "code",
   "execution_count": 71,
   "metadata": {},
   "outputs": [
    {
     "data": {
      "image/png": "[encoded data removed]",
      "text/plain": [
       "<Figure size 504x360 with 1 Axes>"
      ]
     },
     "execution_count": 71,
     "metadata": {},
     "output_type": "execute_result"
    }
   ],
   "source": [
    "# plot the histogram with the plot_histogram function on result['measurement']\n",
    "plot_histogram(result['measurement'])"
   ]
  },
  {
   "cell_type": "markdown",
   "metadata": {},
   "source": [
    "<div class=\"alert alert-success\">\n",
    "  <strong>Note:</strong> \n",
    "\n",
    "The Grover search result, has been obtained running $1$ iteration of the algorithm. Try using num_iterations to 2 and 3 and re-rerun  the Grover circuit.  What do you notice when changing the number of Iterations ? \n",
    "\n",
    "Answer: the optimum number of iterations is given by : ${\\frac \\pi{4}}$${\\sqrt{2^n}}$  \n",
    "\n",
    "So the optimum value is $3$"
   ]
  },
  {
   "cell_type": "markdown",
   "metadata": {},
   "source": [
    "<div class=\"alert alert-success\">\n",
    "  <strong>Note:</strong> \n",
    "\n",
    "The above step-by-step programmatic approach can also be achieved by using a json configuration dictionary with the parameters for the algorithm and any other dependent objects it requires, as follows:"
   ]
  },
  {
   "cell_type": "code",
   "execution_count": 74,
   "metadata": {},
   "outputs": [
    {
     "data": {
      "image/png": "[encoded data removed]",
      "text/plain": [
       "<Figure size 504x360 with 1 Axes>"
      ]
     },
     "execution_count": 74,
     "metadata": {},
     "output_type": "execute_result"
    }
   ],
   "source": [
    "params = {\n",
    "    'problem': {\n",
    "        'name': 'search',\n",
    "    },\n",
    "    'algorithm': {\n",
    "        'name': 'Grover',\n",
    "        'num_iterations': 1\n",
    "    },\n",
    "    'oracle': {\n",
    "        'name': 'LogicalExpressionOracle',\n",
    "        'expression': input_3sat\n",
    "    },\n",
    "    'backend': {\n",
    "        'shots': 1000,\n",
    "    },\n",
    "}\n",
    "# Use run_algorithm function on the backend with specified params above\n",
    "result_dict = run_algorithm(params, backend=backend)\n",
    "\n",
    "# plot the histogram with the plot_histogram function on result_dict['measurement']\n",
    "plot_histogram(result_dict['measurement'])"
   ]
  },
  {
   "cell_type": "markdown",
   "metadata": {},
   "source": [
    "### Second Challenge solution\n",
    "<div class=\"alert alert-success\">\n",
    "  <strong>Here below you'll find the Solution for the \"Second Challenge\"</strong> \n",
    "</div> "
   ]
  },
  {
   "cell_type": "code",
   "execution_count": 118,
   "metadata": {},
   "outputs": [
    {
     "data": {
      "image/png": "[encoded data removed]",
      "text/plain": [
       "<Figure size 216.72x264.88 with 1 Axes>"
      ]
     },
     "execution_count": 118,
     "metadata": {},
     "output_type": "execute_result"
    }
   ],
   "source": [
    "# store the truthtable bitstring on a variable\n",
    "your_truthtable='00000011'\n",
    "# Create the Oracle with the TruthTableOracle Method with optimization=True\n",
    "oracle = TruthTableOracle(your_truthtable, mct_mode='basic', optimization=True)\n",
    "\n",
    "# Draw the oracle circuit with output='mpl'\n",
    "oracle.circuit.draw(output='mpl')"
   ]
  },
  {
   "cell_type": "code",
   "execution_count": 119,
   "metadata": {},
   "outputs": [
    {
     "data": {
      "image/png": "[encoded data removed]",
      "text/plain": [
       "<Figure size 504x360 with 1 Axes>"
      ]
     },
     "execution_count": 119,
     "metadata": {},
     "output_type": "execute_result"
    }
   ],
   "source": [
    "# Create the Grover algorithm\n",
    "grover = Grover(oracle, num_iterations=1)\n",
    "\n",
    "# get the results\n",
    "result_simulator = grover.run(QuantumInstance(Aer.get_backend('qasm_simulator'), shots=1000))\n",
    "\n",
    "sim = result_simulator['measurement']\n",
    "\n",
    "# plot the results on the histogram\n",
    "plot_histogram(result_simulator['measurement'])"
   ]
  },
  {
   "cell_type": "code",
   "execution_count": 143,
   "metadata": {},
   "outputs": [
    {
     "name": "stdout",
     "output_type": "stream",
     "text": [
      "<AccountProvider for IBMQ(hub='ibm-q', group='open', project='main')>\n"
     ]
    }
   ],
   "source": [
    "# Now execute the circuit using a real backend. You'll use the least busy real backend\n",
    "\n",
    "# import IBMQ from qiskit\n",
    "from qiskit import IBMQ\n",
    "\n",
    "# Configure your IBMQ credentials. \n",
    "# Run the following command to store your API token locally for later use. This saves your account to disk.\n",
    "# IBMQ.save_account('YOUR_API_TOKEN')\n",
    "\n",
    "# Accessing your IBMQ backends. Load your account to access your \"backend\" devices\n",
    "provider = IBMQ.load_account()\n",
    "\n",
    "# A provider gives access to specific devices, depending on the group, the project or the hub your have access to:\n",
    "# list your provider\n",
    "print(provider)"
   ]
  },
  {
   "cell_type": "code",
   "execution_count": 144,
   "metadata": {},
   "outputs": [
    {
     "data": {
      "text/plain": [
       "[<IBMQBackend('ibmqx2') from IBMQ(hub='ibm-q', group='open', project='main')>,\n",
       " <IBMQBackend('ibmq_vigo') from IBMQ(hub='ibm-q', group='open', project='main')>,\n",
       " <IBMQBackend('ibmq_ourense') from IBMQ(hub='ibm-q', group='open', project='main')>,\n",
       " <IBMQBackend('ibmq_london') from IBMQ(hub='ibm-q', group='open', project='main')>,\n",
       " <IBMQBackend('ibmq_burlington') from IBMQ(hub='ibm-q', group='open', project='main')>,\n",
       " <IBMQBackend('ibmq_essex') from IBMQ(hub='ibm-q', group='open', project='main')>]"
      ]
     },
     "execution_count": 144,
     "metadata": {},
     "output_type": "execute_result"
    }
   ],
   "source": [
    "# List the backends that are in a status \"available\" for sending jobs as some backends might be in \"maintenance\" \n",
    "# Also we don't want to use the simulator. \n",
    "\n",
    "available_backends=provider.backends(simulator=False, operational=True)\n",
    "available_backends"
   ]
  },
  {
   "cell_type": "code",
   "execution_count": 145,
   "metadata": {},
   "outputs": [],
   "source": [
    "# list the least busy \"backend\" among the available ones. \n",
    "from qiskit.providers.ibmq import least_busy\n",
    "\n",
    "lb_backend = least_busy(available_backends)\n",
    "\n",
    "print('The least busy backend is: ', lb_backend.name())"
   ]
  },
  {
   "cell_type": "code",
   "execution_count": 129,
   "metadata": {},
   "outputs": [
    {
     "data": {
      "text/plain": [
       "16"
      ]
     },
     "execution_count": 129,
     "metadata": {},
     "output_type": "execute_result"
    }
   ],
   "source": [
    "lb_backend.configuration().quantum_volume"
   ]
  },
  {
   "cell_type": "code",
   "execution_count": 141,
   "metadata": {},
   "outputs": [
    {
     "name": "stderr",
     "output_type": "stream",
     "text": [
      "The skip Qobj validation does not work for IBMQ provider. Disable it.\n"
     ]
    }
   ],
   "source": [
    "# Execute the circuit on the real backend device, running it 1000 times.\n",
    "\n",
    "result_real = grover.run(QuantumInstance(lb_backend, shots=1000))\n",
    "real = result_real['measurement']"
   ]
  },
  {
   "cell_type": "code",
   "execution_count": 142,
   "metadata": {},
   "outputs": [
    {
     "data": {
      "image/png": "[encoded data removed]",
      "text/plain": [
       "<Figure size 504x360 with 1 Axes>"
      ]
     },
     "execution_count": 142,
     "metadata": {},
     "output_type": "execute_result"
    }
   ],
   "source": [
    "legend=['simulator', 'real device']\n",
    "\n",
    "plot_histogram([sim, real], legend=legend)\n",
    "#plot_histogram(result_simulator['measurement'])"
   ]
  },
  {
   "cell_type": "code",
   "execution_count": null,
   "metadata": {},
   "outputs": [],
   "source": []
  }
 ],
 "metadata": {
  "kernelspec": {
   "display_name": "Python 3",
   "language": "python",
   "name": "python3"
  },
  "language_info": {
   "codemirror_mode": {
    "name": "ipython",
    "version": 3
   },
   "file_extension": ".py",
   "mimetype": "text/x-python",
   "name": "python",
   "nbconvert_exporter": "python",
   "pygments_lexer": "ipython3",
   "version": "3.7.4"
  }
 },
 "nbformat": 4,
 "nbformat_minor": 1
}
