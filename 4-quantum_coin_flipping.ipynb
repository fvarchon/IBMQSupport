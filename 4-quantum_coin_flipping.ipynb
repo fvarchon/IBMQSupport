{
 "cells": [
  {
   "cell_type": "markdown",
   "metadata": {
    "colab_type": "text",
    "id": "-Lh381LZkY9W"
   },
   "source": [
    "# Flipping a coin quantumly\n",
    "\n",
    "<div class=\"alert alert-block alert-info\">\n",
    "<b>Hadamard Gate</b>\n",
    "\n",
    "\n",
    "Coin flipping has often been used to make decisions and settle disputes. With a fair coin, each of the outcomes has a $\\frac{1}{2}$ probability. Coin flipping may be perfomed by a quantum computer with truly random results using just one quantum gate, because the [Hadamard](https://en.wikipedia.org/wiki/Quantum_logic_gate#Hadamard_(H)_gate \"Hadamard gate on Wikipedia\") gate can put a qubit into an equal superposition. When in this state, the qubit has a $\\frac{1}{2}$ probability of being measured $\\vert0\\rangle$, and a $\\frac{1}{2}$ probability of being measured $\\vert1\\rangle$.  \n",
    "\n",
    "To demonstrate the Hadamard gate, we'll create a simple quantum circuit with the [Qiskit](https://qiskit.org/) framework after we've imported the necessary items.\n",
    "</div>\n"
   ]
  },
  {
   "cell_type": "code",
   "execution_count": 1,
   "metadata": {
    "colab": {},
    "colab_type": "code",
    "id": "MFyUj-8yI9JG"
   },
   "outputs": [],
   "source": [
    "#!pip install qiskit\n",
    "# Include the necessary imports for this program\n",
    "import numpy as np\n",
    "from qiskit import QuantumCircuit, ClassicalRegister, QuantumRegister\n",
    "from qiskit import execute"
   ]
  },
  {
   "cell_type": "code",
   "execution_count": 49,
   "metadata": {
    "colab": {},
    "colab_type": "code",
    "id": "qTJMysLtJpsF"
   },
   "outputs": [],
   "source": [
    "# Create a Quantum Register with 1 qubit (wire).\n",
    "qr = QuantumRegister(1)\n",
    "\n",
    "# Create a Classical Register with 1 bit (double wire).\n",
    "cr = ClassicalRegister(1)\n",
    "\n",
    "# Create a Quantum Circuit from the quantum and classical registers\n",
    "circ = QuantumCircuit(qr, cr)\n",
    "\n",
    "# Place an Hadamard gate on the qubit wire\n",
    "circ.h(qr[0])\n",
    "\n",
    "# Measure the qubit into the classical register\n",
    "circ.measure(qr, cr)\n",
    "\n",
    "# Draw the circuit\n",
    "circ.draw(output='mpl')\n"
   ]
  },
  {
   "cell_type": "markdown",
   "metadata": {
    "colab_type": "text",
    "id": "Ze1KvaGtumdf"
   },
   "source": [
    "<div class=\"alert alert-block alert-info\">\n",
    "\n",
    "Now that the quantum circuit has been defined and drawn, let's execute it on a quantum simulator, running the circuit 100 times. Each run and measurement of the circuit is called a *shot*.</div>"
   ]
  },
  {
   "cell_type": "code",
   "execution_count": 51,
   "metadata": {
    "colab": {},
    "colab_type": "code",
    "id": "q9VtcrnDKmd1"
   },
   "outputs": [],
   "source": [
    "# Import Aer\n",
    "from qiskit import Aer\n",
    "\n",
    "# Use Aer's qasm_simulator\n",
    "backend_sim = Aer.get_backend('qasm_simulator')\n",
    "\n",
    "# Execute the circuit on the qasm simulator, running it 100 times.\n",
    "job_sim = execute(circ, backend_sim, shots=100)\n",
    "\n",
    "# Grab the results from the job.\n",
    "result_sim = job_sim.result()\n",
    "\n",
    "# Print the counts, which are contained in a Python dictionary\n",
    "counts = result_sim.get_counts(circ)\n",
    "print(counts)\n"
   ]
  },
  {
   "cell_type": "markdown",
   "metadata": {
    "colab_type": "text",
    "id": "F1ZxWlWGyK-3"
   },
   "source": [
    "<div class=\"alert alert-block alert-info\">\n",
    "The measurements for each run should be fairly evenly split between $\\vert0\\rangle$ and $\\vert1\\rangle$ as prescribed by the circuit. We'll now generate a visualization of the results.\n",
    "</div>\n"
   ]
  },
  {
   "cell_type": "code",
   "execution_count": 52,
   "metadata": {
    "colab": {},
    "colab_type": "code",
    "id": "-5ZQVEBF7Tqq"
   },
   "outputs": [],
   "source": [
    "from qiskit.tools.visualization import plot_histogram\n",
    "\n",
    "# Plot the results on a bar chart\n",
    "plot_histogram(counts)"
   ]
  },
  {
   "cell_type": "markdown",
   "metadata": {
    "colab_type": "text",
    "id": "-XgCp8Eb2nPA"
   },
   "source": [
    "#### Modeling the Hadamard gate with a matrix\n",
    "<div class=\"alert alert-block alert-info\">\n",
    "\n",
    "The Hadamard gate may be represented by the following matrix using linear algebra.\n",
    "$$\n",
    " \\begin{bmatrix}\n",
    "  \\frac{1}{\\sqrt{2}} & \\frac{1}{\\sqrt{2}} \\\\\n",
    "  \\frac{1}{\\sqrt{2}} & -\\frac{1}{\\sqrt{2}}\n",
    " \\end{bmatrix}\n",
    "$$\n",
    "\n",
    "To model the effect of the Hadamard gate on the $\\vert0\\rangle$ qubit, we'll multiply the matrix that represents the Hadamard gate by the vector that represents a $\\vert0\\rangle$ qubit.\n",
    "\n",
    "$$\n",
    " \\begin{bmatrix}\n",
    "  \\frac{1}{\\sqrt{2}} & \\frac{1}{\\sqrt{2}} \\\\\n",
    "  \\frac{1}{\\sqrt{2}} & -\\frac{1}{\\sqrt{2}}\n",
    " \\end{bmatrix}.\n",
    " \\begin{bmatrix}\n",
    "  1 \\\\\n",
    "  0\n",
    " \\end{bmatrix}=\n",
    " \\begin{bmatrix}\n",
    "  \\frac{1}{\\sqrt{2}} \\\\\n",
    "  \\frac{1}{\\sqrt{2}}\n",
    " \\end{bmatrix}\n",
    "$$\n",
    "\n",
    "The result is a vector that represents a qubit in a quantum state commonly notated as as $\\vert+\\rangle$ and referred to as the _plus_ state.\n",
    "\n",
    "> Note: Our $\\vert+\\rangle$ state is just a symbol, and even though it's commonly used to represent the vector shown on the right, you may see it used elsewhere to represent other quantum states.\n",
    "\n",
    "Both of the dimensions of this vector hold the same amplitude, namely $\\frac{1}{\\sqrt{2}}$, approximately $0.7071$. This is shown geometrically in the following unit circle that represents the qubit's two-dimensional vector space. The vector is drawn from the origin to the point that is $\\frac{1}{\\sqrt{2}}$ on the $\\vert0\\rangle$ axis, and $\\frac{1}{\\sqrt{2}}$ on the $\\vert1\\rangle$ axis. \n",
    "\n",
    "<div align='center'><img src='images/qubit-unit-plus.png' width=300 height=300 title='Plane representing |0> in vector space'></div>\n",
    "<br/>\n",
    "\n",
    "#### Expressing our $\\vert+\\rangle$ state\n",
    "So far we've seen a few ways to express our $\\vert+\\rangle$ state (as a vector, geometrically, and as a ket with a plus symbol). Another way to show it is with the following Dirac notation as two kets, each representing a dimension, and their amplitudes.\n",
    "\n",
    "$$\n",
    "\\frac{1}{\\sqrt{2}}\\vert0\\rangle+\\frac{1}{\\sqrt{2}}\\vert1\\rangle\n",
    "$$\n",
    "\n",
    "\n",
    "> Note: A ket represents a column vector efficiently in part because dimensions with a 0 value are omitted, and coefficients with a value of 1 are implied. For example, the following two-dimensional vector is represented with just one ket because only one of the dimensions has a non-zero coefficient.\n",
    "$$\n",
    " \\begin{bmatrix}\n",
    "  0 \\\\\n",
    "  1\n",
    " \\end{bmatrix}=\n",
    " 0\\vert0\\rangle+1\\vert1\\rangle=\n",
    " \\vert1\\rangle\n",
    "$$\n",
    "\n",
    "No matter how we represent our $\\vert+\\rangle$ state, it has the same probability when measured of being a $\\vert0\\rangle$ qubit as it does of being a $\\vert1\\rangle$ qubit. This is because the squares of the absolute values of each dimension are equal, namely, $\\frac{1}{2}$.\n",
    "\n",
    "Now it's your turn to play! In the following cell, create a one-qubit circuit that uses an X gate followed by a Hadamard gate. Take a moment to think about what the results will be, then write some code after each of the comments and run each of the cells. First, create and draw the circuit:\n",
    "\n",
    "\n",
    "</div>\n"
   ]
  },
  {
   "cell_type": "markdown",
   "metadata": {},
   "source": [
    "### Now it's your turn to play!"
   ]
  },
  {
   "cell_type": "code",
   "execution_count": 0,
   "metadata": {
    "colab": {},
    "colab_type": "code",
    "id": "eCHFJ-hjsCJ4"
   },
   "outputs": [],
   "source": [
    "# Include the necessary imports for this program\n",
    "\n",
    "\n",
    "# Create a Quantum Register with 1 qubit (wire).\n",
    "\n",
    "\n",
    "# Create a Classical Register with 1 bit (double wire).\n",
    "\n",
    "\n",
    "# Create a Quantum Circuit from the quantum and classical registers\n",
    "\n",
    "\n",
    "# Place an X gate followed by a Hadamard gate on the qubit wire. The registers are zero-indexed.\n",
    "\n",
    "\n",
    "# Measure the qubit into the classical register\n",
    "\n",
    "\n",
    "# Draw the circuit\n",
    "\n"
   ]
  },
  {
   "cell_type": "markdown",
   "metadata": {
    "colab_type": "text",
    "id": "10vTSykCsCJ6"
   },
   "source": [
    "\n",
    "<div class=\"alert alert-block alert-info\">\n",
    "Next, run the circuit on a simulator, and print the measurement results:\n",
    "</div>"
   ]
  },
  {
   "cell_type": "code",
   "execution_count": 0,
   "metadata": {
    "colab": {},
    "colab_type": "code",
    "id": "Pu-omNpDsCJ7"
   },
   "outputs": [],
   "source": [
    "# Import Aer\n",
    "\n",
    "\n",
    "# Use Aer's qasm_simulator\n",
    "\n",
    "\n",
    "# Execute the circuit on the qasm simulator, running it 100 times.\n",
    "\n",
    "\n",
    "# Grab the results from the job.\n",
    "\n",
    "\n",
    "# Print the counts, which are contained in a Python dictionary\n"
   ]
  },
  {
   "cell_type": "markdown",
   "metadata": {
    "colab_type": "text",
    "id": "Pk3WL9P9sCJ9"
   },
   "source": [
    "<div class=\"alert alert-block alert-info\">\n",
    "Finally, visualize the results on a histogram:\n",
    "</div>"
   ]
  },
  {
   "cell_type": "code",
   "execution_count": 0,
   "metadata": {
    "colab": {},
    "colab_type": "code",
    "id": "sEe6PItDsCJ-"
   },
   "outputs": [],
   "source": [
    "# Plot the results on a bar chart"
   ]
  },
  {
   "cell_type": "markdown",
   "metadata": {
    "colab_type": "text",
    "id": "EkQotEAFsCKC"
   },
   "source": [
    "\n",
    "<div class=\"alert alert-block alert-info\">\n",
    "The result of running the cell that you filled in should be a histogram containing two bars. As with the previous example with only a Hadamard gate, the measurements for each run should be fairly evenly split between $\\vert0\\rangle$ and $\\vert1\\rangle$. Let's take look at why this is the case.\n",
    "\n",
    "#### Effect of the Hadamard on $\\vert1\\rangle$\n",
    "As noted previously, the Hadamard gate may be represented by the following matrix.\n",
    "$$\n",
    " \\begin{bmatrix}\n",
    "  \\frac{1}{\\sqrt{2}} & \\frac{1}{\\sqrt{2}} \\\\\n",
    "  \\frac{1}{\\sqrt{2}} & -\\frac{1}{\\sqrt{2}}\n",
    " \\end{bmatrix}\n",
    "$$\n",
    "\n",
    "In the most recent circuit, the X gate transformed the initial $\\vert0\\rangle$ state into $\\vert1\\rangle$. Therefore, the Hadamard is operating on $\\vert1\\rangle$.\n",
    "To model this, we'll multiply the matrix that represents the Hadamard gate by the vector that represents a $\\vert1\\rangle$ qubit.\n",
    "\n",
    "$$\n",
    " \\begin{bmatrix}\n",
    "  \\frac{1}{\\sqrt{2}} & \\frac{1}{\\sqrt{2}} \\\\\n",
    "  \\frac{1}{\\sqrt{2}} & -\\frac{1}{\\sqrt{2}}\n",
    " \\end{bmatrix}.\n",
    " \\begin{bmatrix}\n",
    "  0 \\\\\n",
    "  1\n",
    " \\end{bmatrix}=\n",
    " \\begin{bmatrix}\n",
    "  \\frac{1}{\\sqrt{2}} \\\\\n",
    "  -\\frac{1}{\\sqrt{2}}\n",
    " \\end{bmatrix}\n",
    "$$\n",
    "\n",
    "The result is a vector that represents a qubit in a quantum state commonly notated as $\\vert-\\rangle$ and referred to as the _minus_ state.\n",
    "\n",
    "> Note: As noted previously with the $\\vert+\\rangle$ state, our $\\vert-\\rangle$ state is just a symbol, and even though it's commonly used to represent the vector shown on the right, you may see it used elsewhere to represent other quantum states.\n",
    "\n",
    "Each of the dimensions of this vector holds a similar amplitude, differing only by their signs. This is shown geometrically in the following unit circle that represents the qubit's two-dimensional vector space. The vector is drawn from the origin to the point that is $\\frac{1}{\\sqrt{2}}$ on the $\\vert0\\rangle$ axis, and $-\\frac{1}{\\sqrt{2}}$ on the $\\vert1\\rangle$ axis. \n",
    "\n",
    "<div align='center'><img src='images/qubit-unit-minus.png' width=300 height=300 title='Plane representing |0> in vector space'></div>\n",
    "<br/>\n",
    "\n",
    "#### Expressing our $\\vert-\\rangle$ state\n",
    "So far we've seen a few ways to express our $\\vert-\\rangle$ state (as a vector, geometrically, and as a ket with a minus symbol). Another way to show it is with the following Dirac notation as two kets, each representing a dimension, and their amplitudes.\n",
    "\n",
    "$$\n",
    "\\frac{1}{\\sqrt{2}}\\vert0\\rangle-\\frac{1}{\\sqrt{2}}\\vert1\\rangle\n",
    "$$\n",
    "\n",
    "\n",
    "As with the $\\vert+\\rangle$ state previously, no matter how we represent our $\\vert-\\rangle$ state, it has the same probability when measured of being a $\\vert0\\rangle$ qubit as it does of being a $\\vert1\\rangle$ qubit. This is because the squares of the absolute values of each dimension are equal, namely, $\\frac{1}{2}$.\n",
    "</div>\n",
    "\n",
    "\n"
   ]
  },
  {
   "cell_type": "markdown",
   "metadata": {
    "colab_type": "text",
    "id": "BqGAovPfsCKC"
   },
   "source": [
    "#### Representing $\\vert+\\rangle$ and $\\vert-\\rangle$ states on a Bloch sphere\n",
    "<div class=\"alert alert-block alert-info\">\n",
    "Qubit states are often represented on a [_Bloch sphere_](https://en.wikipedia.org/wiki/Bloch_sphere), with the $\\vert0\\rangle$ computational basis state at the top of the sphere, and the $\\vert1\\rangle$ computational basis state at the bottom of the sphere. In addition, each of the infinite number of points on the surface of the Bloch sphere are valid qubit states. Our $\\vert+\\rangle$ and $\\vert-\\rangle$ are two such states, as shown in the following spheres. The first sphere represents a $\\vert+\\rangle$ qubit, and second sphere represents a $\\vert-\\rangle$ qubit.\n",
    "\n",
    "<div align='center'><img src='images/bloch-plus-state.png' width=375 height=337 title='Bloch sphere representation of the |+> state'>\n",
    "<img src='images/bloch-minus-state.png' width=375 height=337 title='Bloch sphere representation of the |-> state'></div>\n",
    "<br/>\n",
    "\n",
    "The spheres shown here are from the [Bloch sphere playground application](https://javafxpert.github.io/grok-bloch \"grok-bloch application\"), which displays information about the state on a Bloch sphere in additional ways. For example:\n",
    "* the vertical bar on the left of each Bloch sphere indicates the probability of measuring the $\\vert0\\rangle$ state, $0.5$ in each of these cases. Note that the top of the dark portion of the bar is at the same vertical position as the arrow on the Bloch sphere (relative to the X/Y plane). This quality of a Bloch sphere makes it intuitive to visually estimate measurement probabilities.\n",
    "\n",
    "* the phase disk below each of the Bloch spheres indicates the _relative phase_ of a qubit, expressed in radians ($\\pi$ radians = $180$ degrees). The phases contained in quantum states cause the constructive and destructive interference that enables many quantum algorithms.\n",
    "\n",
    "#### Behavior of the Hadamard gate on a Bloch sphere\n",
    "The behavior of the Hadamard gate on a Bloch sphere is that the line & arrow rotates $\\pi$ radians ($180$ degrees) around the diagonal X+Z axis. For example, a Hadamard gate applied to a $\\vert0\\rangle$ qubit results in the $\\vert+\\rangle$ shown on the first Bloch sphere, and a Hadamard gate applied to a $\\vert1\\rangle$ qubit results in the $\\vert-\\rangle$ shown on the second Bloch sphere. As with the X gate, applying a Hadamard gate twice results in the initial state. \n",
    "\n",
    "\n",
    "<br/>\n"
   ]
  },
  {
   "cell_type": "markdown",
   "metadata": {},
   "source": [
    "### Your turn to play!\n",
    "<div class=\"alert alert-block alert-info\">\n",
    "To get a better feel for the behavior of the Hadamard gate, go ahead and experiment with this [Bloch sphere playground application](https://javafxpert.github.io/grok-bloch \"grok-bloch application\"). Use the buttons labeled *$\\vert0\\rangle$*, *$\\vert1\\rangle$*, and *H* and notice how the line & arrow are positioned after each click. There are several other gates on the right side of the application with which you can experiment, even if you aren't yet familiar with them. Playing around will give you some intuition about their behavior in advance of when you study them more formally.\n",
    "\n",
    "<div align='center'><img src='images/grok-bloch-screen-shot.png' width=600 title='Bloch sphere playground application'></div>\n",
    "<br/>\n"
   ]
  },
  {
   "cell_type": "markdown",
   "metadata": {},
   "source": [
    "<div class=\"alert alert-success\">\n",
    "  <strong>Here below you'll find the Solution for the \"Hadamard circuit\"</strong> \n",
    "</div>"
   ]
  },
  {
   "cell_type": "code",
   "execution_count": 43,
   "metadata": {},
   "outputs": [
    {
     "data": {
      "image/png": "[encoded data removed]",
      "text/plain": [
       "<Figure size 304.612x144.48 with 1 Axes>"
      ]
     },
     "execution_count": 43,
     "metadata": {},
     "output_type": "execute_result"
    }
   ],
   "source": [
    "# Include the necessary imports for this program\n",
    "from qiskit import *\n",
    "\n",
    "# Create a Quantum Register with 1 qubit (wire).\n",
    "qr = QuantumRegister(1)\n",
    "\n",
    "# Create a Classical Register with 1 bit (double wire).\n",
    "cr = ClassicalRegister(1)\n",
    "\n",
    "# Create a Quantum Circuit from the quantum and classical registers\n",
    "qcircuit = QuantumCircuit(qr,cr)\n",
    "\n",
    "# Place an X gate followed by a Hadamard gate on the qubit wire. The registers are zero-indexed.\n",
    "qcircuit.x(qr)\n",
    "qcircuit.h(qr)\n",
    "\n",
    "# Measure the qubit into the classical register\n",
    "qcircuit.measure(qr, cr)\n",
    "\n",
    "# Draw the circuit\n",
    "qcircuit.draw(output='mpl')"
   ]
  },
  {
   "cell_type": "code",
   "execution_count": 44,
   "metadata": {},
   "outputs": [
    {
     "name": "stdout",
     "output_type": "stream",
     "text": [
      "{'0': 509, '1': 491}\n"
     ]
    }
   ],
   "source": [
    "# Import Aer\n",
    "from qiskit import Aer\n",
    "\n",
    "# Use Aer's qasm_simulator\n",
    "backend = Aer.get_backend('qasm_simulator')\n",
    "\n",
    "# Execute the circuit on the qasm simulator, running it 100 times.\n",
    "job = execute(qcircuit, backend, shots=1000)\n",
    "\n",
    "# Grab the results from the job.\n",
    "result = job.result()\n",
    "\n",
    "# Print the counts, which are contained in a Python dictionary\n",
    "count = result.get_counts(qcircuit)\n",
    "print (count)\n"
   ]
  },
  {
   "cell_type": "code",
   "execution_count": 45,
   "metadata": {},
   "outputs": [
    {
     "data": {
      "image/png": "[encoded data removed]",
      "text/plain": [
       "<Figure size 504x360 with 1 Axes>"
      ]
     },
     "execution_count": 45,
     "metadata": {},
     "output_type": "execute_result"
    }
   ],
   "source": [
    "# Plot the results on a bar chart\n",
    "from qiskit.tools.visualization import plot_histogram\n",
    "plot_histogram(count)"
   ]
  }
 ],
 "metadata": {
  "colab": {
   "collapsed_sections": [],
   "include_colab_link": true,
   "name": "quantum_coin_flipping.ipynb",
   "private_outputs": true,
   "provenance": [],
   "version": "0.3.2"
  },
  "kernelspec": {
   "display_name": "Python 3",
   "language": "python",
   "name": "python3"
  },
  "language_info": {
   "codemirror_mode": {
    "name": "ipython",
    "version": 3
   },
   "file_extension": ".py",
   "mimetype": "text/x-python",
   "name": "python",
   "nbconvert_exporter": "python",
   "pygments_lexer": "ipython3",
   "version": "3.7.4"
  }
 },
 "nbformat": 4,
 "nbformat_minor": 1
}
