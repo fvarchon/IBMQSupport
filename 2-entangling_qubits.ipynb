{
 "cells": [
  {
   "cell_type": "markdown",
   "metadata": {
    "colab_type": "text",
    "id": "-Lh381LZkY9W"
   },
   "source": [
    "## Entangling qubits with a CNOT gate\n",
    "<div class=\"alert alert-block alert-info\">\n",
    "<b>Note:</b>\n",
    "Many quantum algorithms leverage a property of quantum mechanics that Einstein called \"spooky actions at a distance\", known as *quantum entanglement*. In quantum computing, entanglement requires the use of quantum gates that operate on more than one qubit at a time. One such gate is the CNOT, which we'll use in conjunction with a Hadamard gate to maximally entangle two qubits.\n",
    "\n",
    "\n",
    "To demonstrate entanglement, we'll create a two-wire quantum circuit with the [Qiskit](https://qiskit.org/) framework:"
   ]
  },
  {
   "cell_type": "code",
   "execution_count": 12,
   "metadata": {
    "colab": {},
    "colab_type": "code",
    "id": "CQgKjtztTM2u"
   },
   "outputs": [],
   "source": [
    "# Include the necessary imports for this program\n",
    "# let's import some modules for the presentation\n",
    "%matplotlib notebook\n",
    "import time\n",
    "import numpy as np\n",
    "from sympy import Matrix\n",
    "\n",
    "from qiskit import QuantumCircuit, ClassicalRegister, QuantumRegister, execute"
   ]
  },
  {
   "cell_type": "markdown",
   "metadata": {
    "colab_type": "text",
    "id": "Y6reyET7TM2y"
   },
   "source": [
    "<div class=\"alert alert-block alert-info\">\n",
    "<b>Note:</b>\n",
    "So that we can examine the quantum state vector when the qubits are entangled, we're going to use Qiskit's \"statevector_simulator\". We'll create the canonical entanglement circuit, that consists of a Hadamard followed by a CNOT:"
   ]
  },
  {
   "cell_type": "code",
   "execution_count": 28,
   "metadata": {
    "colab": {},
    "colab_type": "code",
    "id": "vIAaml8mTM2z"
   },
   "outputs": [
    {
     "data": {
      "text/plain": [
       "<qiskit.circuit.instructionset.InstructionSet at 0x1fff8ea23c8>"
      ]
     },
     "execution_count": 28,
     "metadata": {},
     "output_type": "execute_result"
    }
   ],
   "source": [
    "# Create a Quantum Register with 2 qubits\n",
    "qr = QuantumRegister(2)\n",
    "\n",
    "# Create a Classical Register with 2 bits\n",
    "cr = ClassicalRegister(2)\n",
    "\n",
    "# Create a Quantum Circuit from the quantum and classical registers\n",
    "circ = QuantumCircuit(qr, cr)\n",
    "\n",
    "# Place Hadamard gate on the top wire, putting this qubit in a superposition.\n",
    "circ.h(qr[0])\n",
    "\n",
    "# Add a CX (CNOT) gate across the top two wires, entangling the qubits.\n",
    "circ.cx(qr[0], qr[1])\n",
    "\n",
    "# Draw the new circuit\n",
    "circ.draw(output='mpl')\n"
   ]
  },
  {
   "cell_type": "markdown",
   "metadata": {
    "colab_type": "text",
    "id": "KD0ETLkhTM21"
   },
   "source": [
    "<div class=\"alert alert-block alert-info\">\n",
    "<b>Note:</b>\n",
    "Now that the quantum circuit has been defined and drawn, we'll execute it on a $statevector$_$simulator$ simulator and examine the quantum state, which is one of the four [Bell states](https://en.wikipedia.org/wiki/Bell_state).\n",
    "</div>\n",
    "We're going to use a simulator in Qiskit, referred to as $\"statevector$_$simulator\"$, that will show us the quantum state upon running the circuit. "
   ]
  },
  {
   "cell_type": "code",
   "execution_count": 19,
   "metadata": {
    "colab": {},
    "colab_type": "code",
    "id": "yYrxRc5dTM22"
   },
   "outputs": [],
   "source": [
    "# Use the Aer statevector_simulator backend\n",
    "from qiskit import Aer\n",
    "backend_sv_sim = Aer.get_backend('statevector_simulator')\n",
    "\n",
    "# Execute the circuit on the state vector simulator\n",
    "job_sim = execute(circ, backend_sv_sim)\n",
    "\n",
    "# Grab the results from the job.\n",
    "result_sim = job_sim.result()\n",
    "\n",
    "# Obtain the state vector for the quantum circuit\n",
    "quantum_state = result_sim.get_statevector(circ, decimals=3)\n",
    "\n",
    "# Output the quantum state vector in a manner that contains a comma-delimited string.\n",
    "quantum_state\n"
   ]
  },
  {
   "cell_type": "markdown",
   "metadata": {},
   "source": [
    "#### The Bell states\n",
    "<div class=\"alert alert-block alert-info\">\n",
    "<b>Note:</b>\n",
    "The output of the previously run cell contains a comma-separated string that represents the circuit's quantum state, in this case one of the Bell states. We can also represent the state vector as a column vector\n",
    "</div>\n"
   ]
  },
  {
   "cell_type": "code",
   "execution_count": 22,
   "metadata": {},
   "outputs": [],
   "source": [
    "# representation of the quantum state in a Matrix\n",
    "M = Matrix(quantum_state)\n",
    "print (\"\\nState Vector as a Matrix representation: \")\n",
    "M"
   ]
  },
  {
   "cell_type": "markdown",
   "metadata": {},
   "source": [
    "<div class=\"alert alert-block alert-info\">\n",
    "<b>Note:</b>\n",
    "This $Bell$ $state$ may also be represented using Dirac notation as\n",
    "\n",
    "$$\\vert\\Phi^+\\rangle = \\frac{\\vert00\\rangle+\\vert11\\rangle}{\\sqrt{2}}$$\n",
    "\n",
    "where $\\vert\\Phi^+\\rangle$ is the usual way of denoting this particular Bell state. Note that the $\\sqrt{2}$ in the denominator normalizes the state so that its probabilities sum to 1\n",
    "\n",
    "We can represent this quantum state in vector notation: \n",
    "Knowing that \n",
    "\n",
    "$$\n",
    " \\vert00\\rangle = \n",
    " \\begin{pmatrix}\n",
    "  1 \\\\\n",
    "  0 \\\\\n",
    "  0 \\\\\n",
    "  0\n",
    " \\end{pmatrix} \\ \\ \\ \\ \\vert11\\rangle =\n",
    " \\begin{pmatrix}\n",
    "  0 \\\\\n",
    "  0 \\\\\n",
    "  0 \\\\\n",
    "  1\n",
    " \\end{pmatrix}\n",
    "$$\n",
    "\n",
    "\n",
    "$$\\vert\\Phi^+\\rangle = \\frac{1}{\\sqrt{2}}  \n",
    " \\begin{bmatrix}\n",
    " \\begin{pmatrix}\n",
    "  1 \\\\\n",
    "  0 \\\\\n",
    "  0 \\\\\n",
    "  0\n",
    " \\end{pmatrix} + \n",
    " \\begin{pmatrix}\n",
    "  0 \\\\\n",
    "  0 \\\\\n",
    "  0 \\\\\n",
    "  1\n",
    " \\end{pmatrix}\n",
    " \\end{bmatrix} \\ \\ \\ \\ \\vert\\Phi^+\\rangle = \\frac{1}{\\sqrt{2}} \n",
    " \\begin{pmatrix}\n",
    "  1 \\\\\n",
    "  0 \\\\\n",
    "  0 \\\\\n",
    "  1\n",
    " \\end{pmatrix}\n",
    " $$\n",
    "\n",
    "\n",
    "#### There are three other Bell states, for a total of four.\n",
    "Each of the Bell states are the _maximally entangled_ states for two qubits, meaning that their measurements are most highly correlated. These additional Bell states are represented in vector notaton and Dirac notation as follows:\n",
    "\n",
    "$$\n",
    " \\vert\\Phi^-\\rangle = \\frac{1}{\\sqrt{2}}\n",
    " \\begin{bmatrix}\n",
    "  1 \\\\\n",
    "  0 \\\\\n",
    "  0 \\\\\n",
    "  -1\n",
    " \\end{bmatrix}=\n",
    "\\frac{\\vert00\\rangle-\\vert11\\rangle}{\\sqrt{2}}\n",
    "$$\n",
    "\n",
    "$$\n",
    " \\vert\\Psi^+\\rangle = \\frac{1}{\\sqrt{2}} \n",
    " \\begin{bmatrix}\n",
    "  0 \\\\\n",
    "  1 \\\\\n",
    "  1 \\\\\n",
    "  0\n",
    " \\end{bmatrix}=\n",
    "\\frac{\\vert01\\rangle+\\vert10\\rangle}{\\sqrt{2}}\n",
    "$$\n",
    "\n",
    "$$\n",
    " \\vert\\Psi^-\\rangle = \\frac{1}{\\sqrt{2}}\n",
    " \\begin{bmatrix}\n",
    "  0 \\\\\n",
    "  1 \\\\\n",
    "  -1 \\\\\n",
    "  0\n",
    " \\end{bmatrix}=\n",
    "\\frac{\\vert01\\rangle-\\vert10\\rangle}{\\sqrt{2}}\n",
    "$$"
   ]
  },
  {
   "cell_type": "markdown",
   "metadata": {},
   "source": [
    "### To verify that the qubits are entangled, let's measure them several times:\n",
    "<div class=\"alert alert-block alert-info\">\n",
    "<b>Note:</b> Before the execution on the $qasm$_$simulator$, we must add a measure instruction to our circuit to measure the qubits into the classical registers\n"
   ]
  },
  {
   "cell_type": "code",
   "execution_count": 57,
   "metadata": {
    "colab": {},
    "colab_type": "code",
    "id": "O07JGsA1TM28"
   },
   "outputs": [],
   "source": [
    "# Use the Aer qasm_simulator backend\n",
    "from qiskit import Aer\n",
    "backend_sim = Aer.get_backend('qasm_simulator')\n",
    "\n",
    "# Measure the qubits into the classical registers\n",
    "circ.measure(qr, cr)\n",
    "\n",
    "# Execute the circuit on the qasm simulator, running it 1000 times.\n",
    "job_sim = execute(circ, backend_sim, shots=1000)\n",
    "\n",
    "# Grab the results from the job.\n",
    "result_sim = job_sim.result()\n",
    "\n",
    "# Print the counts, which are contained in a Python dictionary\n",
    "counts_sim = result_sim.get_counts(circ)\n",
    "print(counts_sim)"
   ]
  },
  {
   "cell_type": "markdown",
   "metadata": {
    "colab_type": "text",
    "id": "w0pDCdVJTM2-"
   },
   "source": [
    "<div class=\"alert alert-block alert-info\">\n",
    "<b>Note:</b>\n",
    "The result of the measurements should be fairly evenly split between $\\vert00\\rangle$ and $\\vert11\\rangle$."
   ]
  },
  {
   "cell_type": "code",
   "execution_count": 58,
   "metadata": {
    "colab": {},
    "colab_type": "code",
    "id": "jn3YqyQ6TM2_"
   },
   "outputs": [],
   "source": [
    "# Plot the results on a histogram\n",
    "from qiskit.tools.visualization import plot_histogram\n",
    "plot_histogram(counts_sim)"
   ]
  },
  {
   "cell_type": "markdown",
   "metadata": {
    "colab_type": "text",
    "id": "uCxR57SvTM3B"
   },
   "source": [
    "#### Now it's your turn to play!\n",
    "<div class=\"alert alert-block alert-info\">\n",
    "<b>Note:</b>\n",
    "Here's a challenge for you: In the following cells, run the previous cells, to produce the Bell state and associated circuits. \n",
    "\n",
    "First, create the circuit for the Bell state:\n",
    "</div>"
   ]
  },
  {
   "cell_type": "code",
   "execution_count": null,
   "metadata": {
    "colab": {},
    "colab_type": "code",
    "id": "lMrkhYUqTM3D"
   },
   "outputs": [],
   "source": [
    "# Include the necessary imports for this program\n",
    "\n",
    "\n",
    "# Create a Quantum Register with 2 qubits\n",
    "\n",
    "\n",
    "# Create a Classical Register with 2 bits\n",
    "\n",
    "\n",
    "# Create a Quantum Circuit from the quantum and classical registers\n",
    "\n",
    "\n",
    "# Place appropriate gates on the wires to achieve the desired Bell state\n",
    "\n",
    "\n",
    "# Draw the circuit\n"
   ]
  },
  {
   "cell_type": "markdown",
   "metadata": {
    "colab_type": "text",
    "id": "hZD0U3EyTM3F"
   },
   "source": [
    "<div class=\"alert alert-block alert-info\">\n",
    "<b>Note:</b>\n",
    "Next, execute the circuit on a state vector simulator and output its state vector"
   ]
  },
  {
   "cell_type": "code",
   "execution_count": null,
   "metadata": {
    "colab": {},
    "colab_type": "code",
    "id": "DKUoj551TM3G"
   },
   "outputs": [],
   "source": [
    "# Use the Aer statevector_simulator backend\n",
    "\n",
    "\n",
    "# Execute the circuit on the state vector simulator\n",
    "\n",
    "\n",
    "# Grab the results from the job.\n",
    "\n",
    "\n",
    "# Obtain the state vector for the quantum circuit\n",
    "\n",
    "\n",
    "# Output the quantum state vector in a manner that contains a comma-delimited string.\n"
   ]
  },
  {
   "cell_type": "markdown",
   "metadata": {
    "colab_type": "text",
    "id": "VtVTYSWxTM3L"
   },
   "source": [
    "<div class=\"alert alert-block alert-info\">\n",
    "<b>Note:</b>\n",
    "To verify that the qubits are entangled, measure them several times on a quantum simulator that includes measurements:"
   ]
  },
  {
   "cell_type": "code",
   "execution_count": null,
   "metadata": {
    "colab": {},
    "colab_type": "code",
    "id": "GQyP-Gb0TM3M"
   },
   "outputs": [],
   "source": [
    "# Use the Aer qasm_simulator backend\n",
    "\n",
    "\n",
    "# Add the Measure of the qubits into the classical registers\n",
    "\n",
    "\n",
    "# Execute the circuit on the qasm simulator, running it 1000 times.\n",
    "\n",
    "\n",
    "# Grab the results from the job.\n",
    "\n",
    "\n",
    "# Print the counts, which are contained in a Python dictionary\n"
   ]
  },
  {
   "cell_type": "markdown",
   "metadata": {
    "colab_type": "text",
    "id": "2gYXv26bTM3O"
   },
   "source": [
    "<div class=\"alert alert-block alert-info\">\n",
    "<b>Note:</b>\n",
    "Depending on the Bell state, the result of the measurements should be fairly evenly split between $\\vert00\\rangle$ and $\\vert11\\rangle$, or $\\vert01\\rangle$ and $\\vert10\\rangle$.\n",
    "\n",
    "Finally, plot the results on a histogram.\n",
    "</div>"
   ]
  },
  {
   "cell_type": "code",
   "execution_count": null,
   "metadata": {
    "colab": {},
    "colab_type": "code",
    "id": "-5ZQVEBF7Tqq"
   },
   "outputs": [],
   "source": [
    "# Plot the results on a histogram\n"
   ]
  },
  {
   "cell_type": "markdown",
   "metadata": {},
   "source": [
    "### Using a real backend to run experiment\n",
    "<div class=\"alert alert-block alert-info\">\n",
    "<b>Note:</b> let's see how to access a real backend device"
   ]
  },
  {
   "cell_type": "code",
   "execution_count": null,
   "metadata": {},
   "outputs": [],
   "source": [
    "# import IBMQ\n",
    "from qiskit import IBMQ\n",
    "\n",
    "# Save your account to disk if it's not yet done \n",
    "IBMQ.save_account('your_token')\n",
    "\n",
    "# load your account to access \"Open\" devices\n",
    "IBMQ.load_account()\n",
    "\n",
    "# A provider gives access to specific devices, depending upon the group, project or hub your have access to:\n",
    "# list your providers \n",
    "IBMQ.providers()"
   ]
  },
  {
   "cell_type": "code",
   "execution_count": null,
   "metadata": {},
   "outputs": [],
   "source": [
    "# Set your provider using \"open\" group\n",
    "provider = IBMQ.get_provider(hub='ibm-q', group='open', project='main')\n",
    "print(provider)"
   ]
  },
  {
   "cell_type": "code",
   "execution_count": null,
   "metadata": {},
   "outputs": [],
   "source": [
    "# List the real backends that are \"available\" for sending jobs. We won't use the simulator. Some backend might be in \"maintenance\" mode. \n",
    "available_backends=provider.backends(simulator=False, operational=True)\n",
    "available_backends"
   ]
  },
  {
   "cell_type": "code",
   "execution_count": null,
   "metadata": {},
   "outputs": [],
   "source": [
    "# list the least busy \"backend\" among the available ones. \n",
    "from qiskit.providers.ibmq import least_busy\n",
    "\n",
    "lb_backend=least_busy(available_backends)\n",
    "\n",
    "print('The least busy backend is: ', lb_backend.name())"
   ]
  },
  {
   "cell_type": "code",
   "execution_count": null,
   "metadata": {},
   "outputs": [],
   "source": [
    "# let's do some import to get a graphical view of the configuration and properties    \n",
    "from qiskit.tools.jupyter import jupyter_magics \n",
    "\n",
    "# Let's print the configuration and properties of that device\n",
    "lb_backend"
   ]
  },
  {
   "cell_type": "code",
   "execution_count": null,
   "metadata": {},
   "outputs": [],
   "source": [
    "# We import some functions to monitor the job  \n",
    "from qiskit.tools.monitor import job_monitor\n",
    "\n",
    "# Execute the circuit on the real backend device, running it 1000 times.\n",
    "job_real = execute(circ, lb_backend, shots=1000)\n",
    "\n",
    "\n",
    "# job_monitor(job_real)\n",
    "\n",
    "# Grab the results from the job.\n",
    "result_real = job_real.result()\n",
    "\n",
    "# Print the counts, which are contained in a Python dictionary\n",
    "counts_real = result_real.get_counts(circ)"
   ]
  },
  {
   "cell_type": "code",
   "execution_count": null,
   "metadata": {},
   "outputs": [],
   "source": [
    "# plot the histogram and compare it with the previous run on the simulator\n",
    "from qiskit.tools.visualization import plot_histogram\n",
    "\n",
    "legend=['simulator', 'real device']\n",
    "\n",
    "plot_histogram([counts_sim, counts_real], legend=legend)"
   ]
  },
  {
   "cell_type": "markdown",
   "metadata": {},
   "source": [
    "### Now it's your turn to play!\n",
    "<div class=\"alert alert-block alert-info\">\n",
    "<b>Note:</b>\n",
    "In the following cells, run the previous circuit on a real backend device and compare the results with the simulator.\n",
    "First, load your account, set your provider and use one of the real backend to execute your circuit:\n",
    "</div>\n"
   ]
  },
  {
   "cell_type": "code",
   "execution_count": null,
   "metadata": {},
   "outputs": [],
   "source": [
    "# import IBMQ\n",
    "\n",
    "\n",
    "# Save your account to disk if it's not yet done \n",
    "\n",
    "\n",
    "# load your account to access \"Open\" devices\n",
    "\n",
    "\n",
    "# A provider gives access to specific devices, depending upon the group, project or hub your have access to:\n",
    "# list your providers \n"
   ]
  },
  {
   "cell_type": "code",
   "execution_count": null,
   "metadata": {},
   "outputs": [],
   "source": [
    "# Set your provider using the group \"open\" \n",
    "\n"
   ]
  },
  {
   "cell_type": "code",
   "execution_count": null,
   "metadata": {},
   "outputs": [],
   "source": [
    "# List the real backends that are in status \"available\" for sending jobs. We won't use the simulator. Some backend might be in \"maintenance\" mode. \n",
    "\n",
    "available_backends = ......\n",
    "\n",
    "available_backends"
   ]
  },
  {
   "cell_type": "code",
   "execution_count": null,
   "metadata": {},
   "outputs": [],
   "source": [
    "# Execute the circuit on the real backend device, running it 1000 times.\n",
    "job_real = .....\n",
    "\n",
    "# Grab the results from the job.\n",
    "result_real = .....\n",
    "\n",
    "# Print the counts, which are contained in a Python dictionary\n",
    "counts_real = ....."
   ]
  },
  {
   "cell_type": "code",
   "execution_count": null,
   "metadata": {},
   "outputs": [],
   "source": [
    "# plot the histogram and compare it with the previous run on the simulator\n",
    "from qiskit.tools.visualization import plot_histogram\n",
    "\n",
    "legend=['simulator', 'real device']\n",
    "\n",
    "plot_histogram(...... "
   ]
  },
  {
   "cell_type": "markdown",
   "metadata": {},
   "source": [
    "<div class=\"alert alert-block alert-info\">\n",
    "<b>Note:</b>\n",
    "If you successfully completed this challenge, then congratulations !!!"
   ]
  },
  {
   "cell_type": "markdown",
   "metadata": {},
   "source": [
    "### Here's an additional challenge for you:  modify and run the previous cells to produce one of the remaining three Bell states and associated circuits. "
   ]
  },
  {
   "cell_type": "markdown",
   "metadata": {
    "colab_type": "text",
    "id": "S4NOPYGBTM3R"
   },
   "source": []
  }
 ],
 "metadata": {
  "colab": {
   "collapsed_sections": [],
   "include_colab_link": true,
   "name": "quantum_not_gate_qiskit.ipynb",
   "private_outputs": true,
   "provenance": [],
   "version": "0.3.2"
  },
  "kernelspec": {
   "display_name": "Python 3",
   "language": "python",
   "name": "python3"
  },
  "language_info": {
   "codemirror_mode": {
    "name": "ipython",
    "version": 3
   },
   "file_extension": ".py",
   "mimetype": "text/x-python",
   "name": "python",
   "nbconvert_exporter": "python",
   "pygments_lexer": "ipython3",
   "version": "3.7.4"
  }
 },
 "nbformat": 4,
 "nbformat_minor": 1
}
