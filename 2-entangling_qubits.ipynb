{
 "cells": [
  {
   "cell_type": "markdown",
   "metadata": {
    "colab_type": "text",
    "id": "-Lh381LZkY9W"
   },
   "source": [
    "## Entangling qubits with a CNOT gate\n",
    "<div class=\"alert alert-block alert-info\">\n",
    "<b>Note:</b>\n",
    "Many quantum algorithms leverage a property of quantum mechanics that Einstein called \"spooky actions at a distance\", known as *quantum entanglement*. In quantum computing, entanglement requires the use of quantum gates that operate on more than one qubit at a time. One such gate is the CNOT, which we'll use in conjunction with a Hadamard gate to maximally entangle two qubits.\n",
    "\n",
    "\n",
    "To demonstrate entanglement, we'll create a two-wire quantum circuit with the [Qiskit](https://qiskit.org/) framework:"
   ]
  },
  {
   "cell_type": "code",
   "execution_count": 13,
   "metadata": {
    "colab": {},
    "colab_type": "code",
    "id": "CQgKjtztTM2u"
   },
   "outputs": [],
   "source": [
    "# Include the necessary imports for this program\n",
    "# let's import some modules for the presentation\n",
    "# %matplotlib notebook\n",
    "import time\n",
    "import numpy as np\n",
    "from sympy import Matrix\n",
    "\n",
    "from qiskit import QuantumCircuit, ClassicalRegister, QuantumRegister, execute"
   ]
  },
  {
   "cell_type": "markdown",
   "metadata": {
    "colab_type": "text",
    "id": "Y6reyET7TM2y"
   },
   "source": [
    "<div class=\"alert alert-block alert-info\">\n",
    "<b>Note:</b>\n",
    "So that we can examine the quantum state vector when the qubits are entangled, we're going to use Qiskit's \"statevector_simulator\". We'll create the canonical entanglement circuit, that consists of a Hadamard followed by a CNOT:"
   ]
  },
  {
   "cell_type": "code",
   "execution_count": 59,
   "metadata": {
    "colab": {},
    "colab_type": "code",
    "id": "vIAaml8mTM2z"
   },
   "outputs": [],
   "source": [
    "# Create a Quantum Register with 2 qubits\n",
    "qr = QuantumRegister(2)\n",
    "\n",
    "# Create a Classical Register with 2 bits\n",
    "cr = ClassicalRegister(2)\n",
    "\n",
    "# Create a Quantum Circuit from the quantum and classical registers\n",
    "circ = QuantumCircuit(qr, cr)\n",
    "\n",
    "# Place Hadamard gate on the top wire, putting this qubit in a superposition.\n",
    "circ.h(qr[0])\n",
    "\n",
    "# Add a CX (CNOT) gate across the top two wires, entangling the qubits.\n",
    "circ.cx(qr[0], qr[1])\n",
    "\n",
    "# Draw the new circuit\n",
    "circ.draw(output='mpl')\n"
   ]
  },
  {
   "cell_type": "markdown",
   "metadata": {
    "colab_type": "text",
    "id": "KD0ETLkhTM21"
   },
   "source": [
    "<div class=\"alert alert-block alert-info\">\n",
    "<b>Note:</b>\n",
    "Now that the quantum circuit has been defined and drawn, we'll execute it on a $statevector$_$simulator$ simulator and examine the quantum state, which is one of the four [Bell states](https://en.wikipedia.org/wiki/Bell_state).\n",
    "</div>\n",
    "We're going to use a simulator in Qiskit, referred to as $\"statevector$_$simulator\"$, that will show us the quantum state upon running the circuit. "
   ]
  },
  {
   "cell_type": "code",
   "execution_count": 60,
   "metadata": {
    "colab": {},
    "colab_type": "code",
    "id": "yYrxRc5dTM22"
   },
   "outputs": [],
   "source": [
    "# Use the Aer statevector_simulator backend\n",
    "from qiskit import Aer\n",
    "backend_sv_sim = Aer.get_backend('statevector_simulator')\n",
    "\n",
    "# Execute the circuit on the state vector simulator\n",
    "job_sim = execute(circ, backend_sv_sim)\n",
    "\n",
    "# Grab the results from the job.\n",
    "result_sim = job_sim.result()\n",
    "\n",
    "# Obtain the state vector for the quantum circuit\n",
    "quantum_state = result_sim.get_statevector(circ, decimals=3)\n",
    "\n",
    "# Output the quantum state vector in a manner that contains a comma-delimited string.\n",
    "quantum_state\n"
   ]
  },
  {
   "cell_type": "markdown",
   "metadata": {},
   "source": [
    "#### The Bell states\n",
    "<div class=\"alert alert-block alert-info\">\n",
    "<b>Note:</b>\n",
    "The output of the previously run cell contains a comma-separated string that represents the circuit's quantum state, in this case one of the Bell states. We can also represent the state vector as a column vector\n",
    "</div>\n"
   ]
  },
  {
   "cell_type": "code",
   "execution_count": 62,
   "metadata": {},
   "outputs": [],
   "source": [
    "# representation of the quantum state in a Matrix\n",
    "M = Matrix(quantum_state)\n",
    "print (\"\\nState Vector as a Matrix representation: \")\n",
    "M"
   ]
  },
  {
   "cell_type": "markdown",
   "metadata": {},
   "source": [
    "<div class=\"alert alert-block alert-info\">\n",
    "<b>Note:</b>\n",
    "This $Bell$ $state$ may also be represented using Dirac notation as\n",
    "\n",
    "$$\\vert\\Phi^+\\rangle = \\frac{\\vert00\\rangle+\\vert11\\rangle}{\\sqrt{2}}$$\n",
    "\n",
    "where $\\vert\\Phi^+\\rangle$ is the usual way of denoting this particular Bell state. Note that the $\\sqrt{2}$ in the denominator normalizes the state so that its probabilities sum to 1\n",
    "\n",
    "We can represent this quantum state in vector notation: \n",
    "Knowing that \n",
    "\n",
    "$$\n",
    " \\vert00\\rangle = \n",
    " \\begin{pmatrix}\n",
    "  1 \\\\\n",
    "  0 \\\\\n",
    "  0 \\\\\n",
    "  0\n",
    " \\end{pmatrix} \\ \\ \\ \\ \\vert11\\rangle =\n",
    " \\begin{pmatrix}\n",
    "  0 \\\\\n",
    "  0 \\\\\n",
    "  0 \\\\\n",
    "  1\n",
    " \\end{pmatrix}\n",
    "$$\n",
    "\n",
    "\n",
    "$$\\vert\\Phi^+\\rangle = \\frac{1}{\\sqrt{2}}  \n",
    " \\begin{bmatrix}\n",
    " \\begin{pmatrix}\n",
    "  1 \\\\\n",
    "  0 \\\\\n",
    "  0 \\\\\n",
    "  0\n",
    " \\end{pmatrix} + \n",
    " \\begin{pmatrix}\n",
    "  0 \\\\\n",
    "  0 \\\\\n",
    "  0 \\\\\n",
    "  1\n",
    " \\end{pmatrix}\n",
    " \\end{bmatrix} \\ \\ \\ \\ \\vert\\Phi^+\\rangle = \\frac{1}{\\sqrt{2}} \n",
    " \\begin{pmatrix}\n",
    "  1 \\\\\n",
    "  0 \\\\\n",
    "  0 \\\\\n",
    "  1\n",
    " \\end{pmatrix}\n",
    " $$\n",
    "\n",
    "\n",
    "#### There are three other Bell states, for a total of four.\n",
    "Each of the Bell states are the _maximally entangled_ states for two qubits, meaning that their measurements are most highly correlated. These additional Bell states are represented in vector notaton and Dirac notation as follows:\n",
    "\n",
    "$$\n",
    " \\vert\\Phi^-\\rangle = \\frac{1}{\\sqrt{2}}\n",
    " \\begin{bmatrix}\n",
    "  1 \\\\\n",
    "  0 \\\\\n",
    "  0 \\\\\n",
    "  -1\n",
    " \\end{bmatrix}=\n",
    "\\frac{\\vert00\\rangle-\\vert11\\rangle}{\\sqrt{2}}\n",
    "$$\n",
    "\n",
    "$$\n",
    " \\vert\\Psi^+\\rangle = \\frac{1}{\\sqrt{2}} \n",
    " \\begin{bmatrix}\n",
    "  0 \\\\\n",
    "  1 \\\\\n",
    "  1 \\\\\n",
    "  0\n",
    " \\end{bmatrix}=\n",
    "\\frac{\\vert01\\rangle+\\vert10\\rangle}{\\sqrt{2}}\n",
    "$$\n",
    "\n",
    "$$\n",
    " \\vert\\Psi^-\\rangle = \\frac{1}{\\sqrt{2}}\n",
    " \\begin{bmatrix}\n",
    "  0 \\\\\n",
    "  1 \\\\\n",
    "  -1 \\\\\n",
    "  0\n",
    " \\end{bmatrix}=\n",
    "\\frac{\\vert01\\rangle-\\vert10\\rangle}{\\sqrt{2}}\n",
    "$$"
   ]
  },
  {
   "cell_type": "markdown",
   "metadata": {},
   "source": [
    "### To verify that the qubits are entangled, let's measure them several times:\n",
    "<div class=\"alert alert-block alert-info\">\n",
    "<b>Note:</b> Before the execution on the $qasm$_$simulator$, we must add a measure instruction to our circuit to measure the qubits into the classical registers\n"
   ]
  },
  {
   "cell_type": "code",
   "execution_count": 63,
   "metadata": {
    "colab": {},
    "colab_type": "code",
    "id": "O07JGsA1TM28"
   },
   "outputs": [],
   "source": [
    "# Use the Aer qasm_simulator backend\n",
    "from qiskit import Aer\n",
    "backend_sim = Aer.get_backend('qasm_simulator')\n",
    "\n",
    "# Measure the qubits into the classical registers\n",
    "circ.measure(qr, cr)\n",
    "\n",
    "# Execute the circuit on the qasm simulator, running it 1000 times.\n",
    "job_sim = execute(circ, backend_sim, shots=1000)\n",
    "\n",
    "# Grab the results from the job.\n",
    "result_sim = job_sim.result()\n",
    "\n",
    "# Print the counts, which are contained in a Python dictionary\n",
    "counts_sim = result_sim.get_counts(circ)\n",
    "print(counts_sim)"
   ]
  },
  {
   "cell_type": "markdown",
   "metadata": {
    "colab_type": "text",
    "id": "w0pDCdVJTM2-"
   },
   "source": [
    "<div class=\"alert alert-block alert-info\">\n",
    "<b>Note:</b>\n",
    "The result of the measurements should be fairly evenly split between $\\vert00\\rangle$ and $\\vert11\\rangle$."
   ]
  },
  {
   "cell_type": "code",
   "execution_count": 64,
   "metadata": {
    "colab": {},
    "colab_type": "code",
    "id": "jn3YqyQ6TM2_"
   },
   "outputs": [],
   "source": [
    "# Plot the results on a histogram\n",
    "from qiskit.tools.visualization import plot_histogram\n",
    "plot_histogram(counts_sim)"
   ]
  },
  {
   "cell_type": "markdown",
   "metadata": {
    "colab_type": "text",
    "id": "uCxR57SvTM3B"
   },
   "source": [
    "#### Now it's your turn to play!\n",
    "<div class=\"alert alert-block alert-info\">\n",
    "<b>Note:</b>\n",
    "Here's a challenge for you: In the following cells, run the previous cells, to produce the Bell state and associated circuits. \n",
    "\n",
    "First, create the circuit for the Bell state:\n",
    "</div>"
   ]
  },
  {
   "cell_type": "code",
   "execution_count": null,
   "metadata": {
    "colab": {},
    "colab_type": "code",
    "id": "lMrkhYUqTM3D"
   },
   "outputs": [],
   "source": [
    "# Include the necessary imports for this program\n",
    "\n",
    "\n",
    "# Create a Quantum Register with 2 qubits\n",
    "\n",
    "\n",
    "# Create a Classical Register with 2 bits\n",
    "\n",
    "\n",
    "# Create a Quantum Circuit from the quantum and classical registers\n",
    "\n",
    "\n",
    "# Place appropriate gates on the wires to achieve the desired Bell state\n",
    "\n",
    "\n",
    "# Draw the circuit\n"
   ]
  },
  {
   "cell_type": "markdown",
   "metadata": {
    "colab_type": "text",
    "id": "hZD0U3EyTM3F"
   },
   "source": [
    "<div class=\"alert alert-block alert-info\">\n",
    "<b>Note:</b>\n",
    "Next, execute the circuit on a state vector simulator and output its state vector"
   ]
  },
  {
   "cell_type": "code",
   "execution_count": null,
   "metadata": {
    "colab": {},
    "colab_type": "code",
    "id": "DKUoj551TM3G"
   },
   "outputs": [],
   "source": [
    "# Use the Aer statevector_simulator backend\n",
    "\n",
    "\n",
    "# Execute the circuit on the state vector simulator\n",
    "\n",
    "\n",
    "# Grab the results from the job.\n",
    "\n",
    "\n",
    "# Obtain the state vector for the quantum circuit\n",
    "\n",
    "\n",
    "# Output the quantum state vector in a manner that contains a comma-delimited string.\n"
   ]
  },
  {
   "cell_type": "markdown",
   "metadata": {
    "colab_type": "text",
    "id": "VtVTYSWxTM3L"
   },
   "source": [
    "<div class=\"alert alert-block alert-info\">\n",
    "<b>Note:</b>\n",
    "To verify that the qubits are entangled, measure them several times on a quantum simulator that includes measurements:"
   ]
  },
  {
   "cell_type": "code",
   "execution_count": null,
   "metadata": {
    "colab": {},
    "colab_type": "code",
    "id": "GQyP-Gb0TM3M"
   },
   "outputs": [],
   "source": [
    "# Use the Aer qasm_simulator backend\n",
    "\n",
    "\n",
    "# Add the Measure of the qubits into the classical registers\n",
    "\n",
    "\n",
    "# Execute the circuit on the qasm simulator, running it 1000 times.\n",
    "\n",
    "\n",
    "# Grab the results from the job.\n",
    "\n",
    "\n",
    "# Print the counts, which are contained in a Python dictionary\n"
   ]
  },
  {
   "cell_type": "markdown",
   "metadata": {
    "colab_type": "text",
    "id": "2gYXv26bTM3O"
   },
   "source": [
    "<div class=\"alert alert-block alert-info\">\n",
    "<b>Note:</b>\n",
    "For the Bell state $\\vert\\Phi^+\\rangle$, the result of the measurements should be fairly evenly split between $\\vert00\\rangle$ and $\\vert11\\rangle$.\n",
    "\n",
    "Finally, plot the results on a histogram.\n",
    "</div>"
   ]
  },
  {
   "cell_type": "code",
   "execution_count": null,
   "metadata": {
    "colab": {},
    "colab_type": "code",
    "id": "-5ZQVEBF7Tqq"
   },
   "outputs": [],
   "source": [
    "# Plot the results on a histogram\n"
   ]
  },
  {
   "cell_type": "markdown",
   "metadata": {},
   "source": [
    "### Using a real backend to run experiment\n",
    "<div class=\"alert alert-block alert-info\">\n",
    "<b>Note:</b> let's see how to access a real backend device"
   ]
  },
  {
   "cell_type": "code",
   "execution_count": 65,
   "metadata": {},
   "outputs": [],
   "source": [
    "# import IBMQ from qiskit\n",
    "from qiskit import IBMQ\n",
    "\n",
    "# Configure your IBMQ credentials. \n",
    "# Run the following command to store your API token locally for later use. This saves your account to disk.\n",
    "IBMQ.save_account('YOUR_API_TOKEN')\n",
    "\n",
    "# Accessing your IBMQ backends. Load your account to access your \"backend\" devices\n",
    "provider = IBMQ.load_account()\n",
    "\n",
    "# A provider gives access to specific devices, depending on the group, the project or the hub your have access to:\n",
    "# list your provider\n",
    "print(provider)\n"
   ]
  },
  {
   "cell_type": "markdown",
   "metadata": {},
   "source": [
    "<div class=\"alert alert-block alert-info\">\n",
    "<b>Note:</b>\n",
    "By default, all IBM Q accounts have access to the same, open project  <b>(hub: ibm-q, group: open, project: main).</b>"
   ]
  },
  {
   "cell_type": "code",
   "execution_count": 20,
   "metadata": {},
   "outputs": [],
   "source": [
    "# Alternatively, if you do not want to save your credentials to disk and only intend to use them during the current session, \n",
    "# you can use: \n",
    "'provider = IBMQ.enable_account('YOUR_API_TOKEN')'\n"
   ]
  },
  {
   "cell_type": "code",
   "execution_count": 66,
   "metadata": {},
   "outputs": [],
   "source": [
    "# List the backends that are in a status \"available\" for sending jobs as some backends might be in \"maintenance\" \n",
    "# Also we don't want to use the simulator. \n",
    "\n",
    "available_backends=provider.backends(simulator=False, operational=True)\n",
    "available_backends\n"
   ]
  },
  {
   "cell_type": "code",
   "execution_count": 67,
   "metadata": {},
   "outputs": [],
   "source": [
    "# list the least busy \"backend\" among the available ones. \n",
    "from qiskit.providers.ibmq import least_busy\n",
    "\n",
    "lb_backend = least_busy(available_backends)\n",
    "\n",
    "print('The least busy backend is: ', lb_backend.name())"
   ]
  },
  {
   "cell_type": "code",
   "execution_count": 68,
   "metadata": {},
   "outputs": [],
   "source": [
    "# let's do some import to get a graphical view of the configuration and properties    \n",
    "from qiskit.tools.jupyter import jupyter_magics \n",
    "\n",
    "# Let's print the configuration and properties of that device\n",
    "lb_backend"
   ]
  },
  {
   "cell_type": "code",
   "execution_count": 24,
   "metadata": {},
   "outputs": [],
   "source": [
    "# Execute the circuit on the real backend device, running it 1000 times.\n",
    "job_real = execute(circ, lb_backend, shots=1000)\n",
    "\n",
    "# Grab the results from the job.\n",
    "result_real = job_real.result()\n",
    "\n",
    "# Print the counts, which are contained in a Python dictionary\n",
    "counts_real = result_real.get_counts(circ)"
   ]
  },
  {
   "cell_type": "code",
   "execution_count": 69,
   "metadata": {},
   "outputs": [],
   "source": [
    "# plot the histogram and compare it with the previous run on the simulator\n",
    "from qiskit.tools.visualization import plot_histogram\n",
    "\n",
    "legend=['simulator', 'real device']\n",
    "\n",
    "plot_histogram([counts_sim, counts_real], legend=legend)"
   ]
  },
  {
   "cell_type": "markdown",
   "metadata": {},
   "source": [
    "### Now it's your turn to play!\n",
    "<div class=\"alert alert-block alert-info\">\n",
    "<b>Note:</b>\n",
    "In the following cells, run the previous circuit on a real backend device and compare the results with the simulator.\n",
    "First, load your account, set your provider and use one of the real backend to execute your circuit:\n",
    "</div>\n"
   ]
  },
  {
   "cell_type": "code",
   "execution_count": null,
   "metadata": {},
   "outputs": [],
   "source": [
    "# import IBMQ from qiskit\n",
    "\n",
    "\n",
    "# Configure your IBMQ credentials. \n",
    "# Save your account to disk if it's not yet done\n",
    "\n",
    "\n",
    "# Accessing your IBMQ backends. Load your account to access your \"backend\" devices\n",
    "\n",
    "\n",
    "# list your provider\n"
   ]
  },
  {
   "cell_type": "code",
   "execution_count": null,
   "metadata": {},
   "outputs": [],
   "source": [
    "# Set your provider using the group \"open\" \n",
    "\n"
   ]
  },
  {
   "cell_type": "code",
   "execution_count": null,
   "metadata": {},
   "outputs": [],
   "source": [
    "# List the backends that are in a status \"available\" for sending jobs\". \n",
    "\n"
   ]
  },
  {
   "cell_type": "code",
   "execution_count": null,
   "metadata": {},
   "outputs": [],
   "source": [
    "# Execute the circuit on the \"least busy real backend device\", running it 1000 times.\n",
    "\n",
    "\n",
    "# Grab the results from the job.\n",
    "\n",
    "\n",
    "# Print the counts, which are contained in a Python dictionary\n"
   ]
  },
  {
   "cell_type": "code",
   "execution_count": null,
   "metadata": {},
   "outputs": [],
   "source": [
    "# plot the counts histogram and compare it with the previous run on the simulator\n",
    "from qiskit.tools.visualization import plot_histogram\n",
    "legend=['simulator', 'real device']\n",
    "\n",
    "plot_histogram(...... "
   ]
  },
  {
   "cell_type": "markdown",
   "metadata": {},
   "source": [
    "<div class=\"alert alert-block alert-info\">\n",
    "<b>Note:</b>\n",
    "If you successfully completed this challenge, then congratulations !!!"
   ]
  },
  {
   "cell_type": "markdown",
   "metadata": {},
   "source": [
    "<div class=\"alert alert-block alert-info\">\n",
    "  <strong>##########################################   Additional Chalenge   ########################################</strong> \n",
    "</div>\n",
    "\n",
    "### Here's an additional challenge for you:  Modify and run the previous cells to produce one of the remaining three Bell states $\\vert\\Psi^+\\rangle$ and associated circuits. \n",
    "The result of the measurements should be fairly evenly split between  $\\vert01\\rangle$ and $\\vert10\\rangle$\n",
    "\n"
   ]
  },
  {
   "cell_type": "markdown",
   "metadata": {},
   "source": [
    "<div class=\"alert alert-success\">\n",
    "  <strong>Here below you'll find the Solution for the \"Additional Chalenge\"</strong> \n",
    "</div>"
   ]
  },
  {
   "cell_type": "markdown",
   "metadata": {},
   "source": [
    "<div class=\"alert alert-success\">\n",
    "<b>Note:</b>\n",
    "Produce the Bell state $\\vert\\Psi^+\\rangle$ and associated circuits. \n",
    "\n",
    "\n",
    "\n",
    "\n",
    "\n",
    "$$\n",
    " \\vert\\Psi^+\\rangle = \\frac{1}{\\sqrt{2}} \n",
    " \\begin{bmatrix}\n",
    "  0 \\\\\n",
    "  1 \\\\\n",
    "  1 \\\\\n",
    "  0\n",
    " \\end{bmatrix}=\n",
    "\\frac{\\vert01\\rangle+\\vert10\\rangle}{\\sqrt{2}}\n",
    "$$\n",
    "</div>\n",
    "\n"
   ]
  },
  {
   "cell_type": "markdown",
   "metadata": {},
   "source": [
    "<div class=\"alert alert-success\">\n",
    "<b>Note:</b>\n",
    "To produce the Bell state $\\vert\\Psi^+\\rangle$. What needs to be applied to the state $$\\vert\\Phi^+\\rangle = \\frac{\\vert00\\rangle+\\vert11\\rangle}{\\sqrt{2}}$$ to be changed to $$\\vert\\Psi^+\\rangle = \\frac{\\vert01\\rangle+\\vert10\\rangle}{\\sqrt{2}}$$ \n",
    "    \n",
    "Just change the qubit 1 from $|0>$ to $|1>$ and $|1>$ to $|0>$. so that $$\\frac{\\vert00\\rangle+\\vert11\\rangle}{\\sqrt{2}} --->  \\frac{\\vert01\\rangle+\\vert10\\rangle}{\\sqrt{2}}$$\n",
    "\n",
    "This is exactly what the $X$ gate does. And we need to apply it to $Qubit$ $1$ \n",
    "\n",
    "\n",
    "\n",
    "</div>\n"
   ]
  },
  {
   "cell_type": "code",
   "execution_count": 44,
   "metadata": {},
   "outputs": [
    {
     "data": {
      "image/png": "[encoded data removed]",
      "text/plain": [
       "<Figure size 347.956x204.68 with 1 Axes>"
      ]
     },
     "execution_count": 44,
     "metadata": {},
     "output_type": "execute_result"
    }
   ],
   "source": [
    "# Create a Quantum Register with 2 qubits\n",
    "qr = QuantumRegister(2)\n",
    "\n",
    "# Create a Classical Register with 2 bits\n",
    "cr = ClassicalRegister(2)\n",
    "\n",
    "# Create a Quantum Circuit from the quantum and classical registers\n",
    "circ = QuantumCircuit(qr, cr)\n",
    "\n",
    "# Place Hadamard gate on the top wire, putting this qubit in a superposition.\n",
    "circ.h(qr[0])\n",
    "\n",
    "# Add a CX (CNOT) gate across the top two wires, entangling the qubits.\n",
    "circ.cx(qr[0], qr[1])\n",
    "\n",
    "# Add a X (NOT) gate on wire 1 \n",
    "circ.x(qr[1])\n",
    "\n",
    "# Draw the new circuit\n",
    "circ.draw(output='mpl')"
   ]
  },
  {
   "cell_type": "code",
   "execution_count": 45,
   "metadata": {},
   "outputs": [
    {
     "name": "stdout",
     "output_type": "stream",
     "text": [
      "{'10': 515, '01': 485}\n"
     ]
    }
   ],
   "source": [
    "# Use the Aer qasm_simulator backend\n",
    "from qiskit import Aer\n",
    "backend_sim = Aer.get_backend('qasm_simulator')\n",
    "\n",
    "# Measure the qubits into the classical registers\n",
    "circ.measure(qr, cr)\n",
    "\n",
    "# Execute the circuit on the qasm simulator, running it 1000 times.\n",
    "job_sim = execute(circ, backend_sim, shots=1000)\n",
    "\n",
    "# Grab the results from the job.\n",
    "result_sim = job_sim.result()\n",
    "\n",
    "# Print the counts, which are contained in a Python dictionary\n",
    "counts_sim = result_sim.get_counts(circ)\n",
    "print(counts_sim)"
   ]
  },
  {
   "cell_type": "code",
   "execution_count": 46,
   "metadata": {},
   "outputs": [
    {
     "data": {
      "image/png": "[encoded data removed]",
      "text/plain": [
       "<Figure size 504x360 with 1 Axes>"
      ]
     },
     "execution_count": 46,
     "metadata": {},
     "output_type": "execute_result"
    }
   ],
   "source": [
    "# Plot the results on a histogram\n",
    "from qiskit.tools.visualization import plot_histogram\n",
    "plot_histogram(counts_sim)"
   ]
  },
  {
   "cell_type": "markdown",
   "metadata": {},
   "source": [
    "<div class=\"alert alert-success\">\n",
    "<b>Note:</b>\n",
    "Just to finish the demonstration, as we have produced the Bell state $\\vert\\Psi^+\\rangle$. What needs to be applied to this state to produce the Bell state $\\vert\\Psi^-\\rangle$ ? \n",
    "\n",
    "Well, we'll just have to use a quantum gate that modifies one of the qubit state from |1> to -|1> and leave the state |0> unchanged. \n",
    "\n",
    "This is exactly what the gate $Z$ is doing ... and we must apply it to $qubit$ $0$\n",
    "    \n",
    "   \n",
    "Just change from $$\\frac{\\vert01\\rangle+\\vert10\\rangle}{\\sqrt{2}} --->  \\frac{\\vert01\\rangle-\\vert10\\rangle}{\\sqrt{2}}$$\n",
    "\n",
    "\n",
    "\n",
    "The $Pauli-Z$ gate acts on a single qubit. It equates to a rotation around the Z-axis of the Bloch sphere by $π$ radians. Thus, It leaves the basis state $|0⟩$  unchanged and maps $|1⟩$  to $−|1⟩$ . It is sometimes called phase-flip and represented by the Pauli Z matrix:\n",
    "\n",
    "$$ Z = \\begin{bmatrix} 1 & 0 \\\\ 0 & -1 \\end{bmatrix}.$$"
   ]
  },
  {
   "cell_type": "code",
   "execution_count": 51,
   "metadata": {},
   "outputs": [
    {
     "data": {
      "image/png": "[encoded data removed]",
      "text/plain": [
       "<Figure size 347.956x204.68 with 1 Axes>"
      ]
     },
     "execution_count": 51,
     "metadata": {},
     "output_type": "execute_result"
    }
   ],
   "source": [
    "# Create a Quantum Register with 2 qubits\n",
    "qr = QuantumRegister(2)\n",
    "\n",
    "# Create a Classical Register with 2 bits\n",
    "cr = ClassicalRegister(2)\n",
    "\n",
    "# Create a Quantum Circuit from the quantum and classical registers\n",
    "circ = QuantumCircuit(qr, cr)\n",
    "\n",
    "# Place Hadamard gate on the top wire, putting this qubit in a superposition.\n",
    "circ.h(qr[0])\n",
    "\n",
    "# Add a CX (CNOT) gate across the top two wires, entangling the qubits.\n",
    "circ.cx(qr[0], qr[1])\n",
    "\n",
    "# Add a X (NOT) gate on wire 1 \n",
    "circ.x(qr[1])\n",
    "\n",
    "# Add a Z (Pauli Z) gate to wire 0\n",
    "circ.z(qr[0])\n",
    "\n",
    "# Draw the new circuit\n",
    "circ.draw(output='mpl')"
   ]
  },
  {
   "cell_type": "code",
   "execution_count": 52,
   "metadata": {},
   "outputs": [
    {
     "name": "stdout",
     "output_type": "stream",
     "text": [
      "{'10': 471, '01': 529}\n"
     ]
    }
   ],
   "source": [
    "# Use the Aer qasm_simulator backend\n",
    "from qiskit import Aer\n",
    "backend_sim = Aer.get_backend('qasm_simulator')\n",
    "\n",
    "# Measure the qubits into the classical registers\n",
    "circ.measure(qr, cr)\n",
    "\n",
    "# Execute the circuit on the qasm simulator, running it 1000 times.\n",
    "job_sim = execute(circ, backend_sim, shots=1000)\n",
    "\n",
    "# Grab the results from the job.\n",
    "result_sim = job_sim.result()\n",
    "\n",
    "# Print the counts, which are contained in a Python dictionary\n",
    "counts_sim = result_sim.get_counts(circ)\n",
    "print(counts_sim)"
   ]
  },
  {
   "cell_type": "code",
   "execution_count": 53,
   "metadata": {},
   "outputs": [
    {
     "data": {
      "image/png": "[encoded data removed]",
      "text/plain": [
       "<Figure size 504x360 with 1 Axes>"
      ]
     },
     "execution_count": 53,
     "metadata": {},
     "output_type": "execute_result"
    }
   ],
   "source": [
    "# Plot the results on a histogram\n",
    "from qiskit.tools.visualization import plot_histogram\n",
    "plot_histogram(counts_sim)"
   ]
  }
 ],
 "metadata": {
  "colab": {
   "collapsed_sections": [],
   "include_colab_link": true,
   "name": "quantum_not_gate_qiskit.ipynb",
   "private_outputs": true,
   "provenance": [],
   "version": "0.3.2"
  },
  "kernelspec": {
   "display_name": "Python 3",
   "language": "python",
   "name": "python3"
  },
  "language_info": {
   "codemirror_mode": {
    "name": "ipython",
    "version": 3
   },
   "file_extension": ".py",
   "mimetype": "text/x-python",
   "name": "python",
   "nbconvert_exporter": "python",
   "pygments_lexer": "ipython3",
   "version": "3.7.4"
  }
 },
 "nbformat": 4,
 "nbformat_minor": 1
}
